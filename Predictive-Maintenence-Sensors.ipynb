{
  "nbformat": 4,
  "nbformat_minor": 0,
  "metadata": {
    "colab": {
      "provenance": [],
      "toc_visible": true
    },
    "kernelspec": {
      "name": "python3",
      "display_name": "Python 3"
    },
    "language_info": {
      "name": "python"
    }
  },
  "cells": [
    {
      "cell_type": "markdown",
      "source": [
        "## **Preprocessing the data**"
      ],
      "metadata": {
        "id": "Fr6a6jQRBLTU"
      }
    },
    {
      "cell_type": "markdown",
      "source": [
        "##### **Importing libraries**"
      ],
      "metadata": {
        "id": "9DtK_eEnAT-S"
      }
    },
    {
      "cell_type": "code",
      "source": [
        "import pandas as pd\n",
        "import numpy as np\n",
        "import seaborn as sns\n",
        "import matplotlib.pyplot as plt\n",
        "from imblearn.over_sampling import SMOTE\n",
        "from sklearn.preprocessing import LabelEncoder, MinMaxScaler\n",
        "from scipy.stats import zscore\n",
        "from sklearn.model_selection import train_test_split, GridSearchCV\n",
        "from sklearn.ensemble import RandomForestClassifier\n",
        "from sklearn.metrics import accuracy_score, classification_report, confusion_matrix, precision_score, recall_score, f1_score, roc_curve, auc"
      ],
      "metadata": {
        "id": "ob2CLH14A2Pu"
      },
      "execution_count": null,
      "outputs": []
    },
    {
      "cell_type": "markdown",
      "source": [
        "##### **Loading the dataset and printing first 5 rows**"
      ],
      "metadata": {
        "id": "w55MZei4BIPL"
      }
    },
    {
      "cell_type": "code",
      "source": [
        "# Reading the dataset from a CSV file into a Pandas DataFrame\n",
        "# The 'pd.read_csv()' function is used to load data from a CSV file into a DataFrame.\n",
        "df = pd.read_csv(\"machine_failure_dataset.csv\")"
      ],
      "metadata": {
        "id": "rfHmcjdFBtnD"
      },
      "execution_count": null,
      "outputs": []
    },
    {
      "cell_type": "code",
      "source": [
        "# Printing a message to indicate that the first 5 rows of the dataset will be displayed\n",
        "# The '\\n' adds a newline for better readability when printed\n",
        "print(\"\\n First 5 rows of data:\")\n",
        "\n",
        "# Using the 'head()' function to display the first 5 rows of the DataFrame (default behavior)\n",
        "# This is useful for getting a quick preview of the data and its structure\n",
        "print(df.head())"
      ],
      "metadata": {
        "colab": {
          "base_uri": "https://localhost:8080/"
        },
        "id": "d-HyxxblB2yB",
        "outputId": "e5cec651-1cd6-4c61-bed2-da9c2ecdfcfa"
      },
      "execution_count": null,
      "outputs": [
        {
          "output_type": "stream",
          "name": "stdout",
          "text": [
            "\n",
            " First 5 rows of data:\n",
            "   Temperature  Vibration  Power_Usage   Humidity Machine_Type  Failure_Risk\n",
            "0    74.967142  56.996777     8.649643  20.460962         Mill             1\n",
            "1    68.617357  54.623168     9.710963  25.698075        Lathe             0\n",
            "2    76.476885  50.298152     8.415160  27.931972        Drill             1\n",
            "3    85.230299  46.765316     9.384077  39.438438        Lathe             1\n",
            "4    67.658466  53.491117     6.212771  32.782766        Drill             1\n"
          ]
        }
      ]
    },
    {
      "cell_type": "markdown",
      "source": [
        "##### **Checking for missing values**"
      ],
      "metadata": {
        "id": "JKpB-74GB_XE"
      }
    },
    {
      "cell_type": "code",
      "source": [
        "# Printing a message to indicate that the missing values in the dataset will be checked\n",
        "# The '\\n' adds a newline for better readability when printed\n",
        "print(\"\\n Checking missing values:\")\n",
        "\n",
        "# Using the 'isnull()' function to check for missing values (NaN) in the DataFrame\n",
        "# The 'sum()' function is then used to count the number of missing values in each column\n",
        "# This helps in understanding the completeness of the dataset and deciding how to handle missing data\n",
        "print(df.isnull().sum())"
      ],
      "metadata": {
        "colab": {
          "base_uri": "https://localhost:8080/"
        },
        "id": "asZQCwZmB2r2",
        "outputId": "1e134c9a-370e-4d9e-a3fa-10c3c4502762"
      },
      "execution_count": null,
      "outputs": [
        {
          "output_type": "stream",
          "name": "stdout",
          "text": [
            "\n",
            " Checking missing values:\n",
            "Temperature     0\n",
            "Vibration       0\n",
            "Power_Usage     0\n",
            "Humidity        0\n",
            "Machine_Type    0\n",
            "Failure_Risk    0\n",
            "dtype: int64\n"
          ]
        }
      ]
    },
    {
      "cell_type": "markdown",
      "source": [
        "No missing values in the dataset."
      ],
      "metadata": {
        "id": "ziOFfZZbCVFr"
      }
    },
    {
      "cell_type": "markdown",
      "source": [
        "##### **Checking Data Types & Convert Categorical Features**"
      ],
      "metadata": {
        "id": "p3u-N7L2Cgik"
      }
    },
    {
      "cell_type": "code",
      "source": [
        "# Printing a message to indicate that the data types of the columns will be displayed\n",
        "# The '\\n' adds a newline for better readability when printed\n",
        "print(\"\\n Data Types:\")\n",
        "\n",
        "# Using the 'dtypes' attribute to display the data types of each column in the DataFrame\n",
        "# This is useful for understanding the kind of data each column holds (e.g., integers, floats, strings)\n",
        "# and ensures that the data types are appropriate for any further analysis or modeling\n",
        "print(df.dtypes)"
      ],
      "metadata": {
        "colab": {
          "base_uri": "https://localhost:8080/"
        },
        "id": "aJC60F90CjvZ",
        "outputId": "c4f33024-c921-4cb8-8ed4-e3644ad345c8"
      },
      "execution_count": null,
      "outputs": [
        {
          "output_type": "stream",
          "name": "stdout",
          "text": [
            "\n",
            " Data Types:\n",
            "Temperature     float64\n",
            "Vibration       float64\n",
            "Power_Usage     float64\n",
            "Humidity        float64\n",
            "Machine_Type     object\n",
            "Failure_Risk      int64\n",
            "dtype: object\n"
          ]
        }
      ]
    },
    {
      "cell_type": "code",
      "source": [
        "# Checking if the data type of the 'Machine_Type' column is 'object' (indicating categorical or string data)\n",
        "# This is useful because categorical data (e.g., strings) should be converted to numeric codes for machine learning models\n",
        "if df['Machine_Type'].dtype == 'object':\n",
        "\n",
        "    # Converting the 'Machine_Type' column to a categorical type\n",
        "    # The 'astype('category')' method converts the column into a categorical data type\n",
        "    # The 'cat.codes' property assigns a unique integer code to each category (string)\n",
        "    # This conversion is necessary because machine learning algorithms usually require numerical data\n",
        "    df['Machine_Type'] = df['Machine_Type'].astype('category').cat.codes"
      ],
      "metadata": {
        "id": "3DU3_gb7CplY"
      },
      "execution_count": null,
      "outputs": []
    },
    {
      "cell_type": "code",
      "source": [
        "# Printing the first 5 rows of the DataFrame after transformations or processing\n",
        "# This allows you to quickly verify that the changes (such as converting 'Machine_Type' to numeric codes) have been applied correctly\n",
        "print(df.head())"
      ],
      "metadata": {
        "colab": {
          "base_uri": "https://localhost:8080/"
        },
        "id": "fuAXI6V2Cy5P",
        "outputId": "5f8e4dd4-5d66-4e99-e8d2-1269f19d6be7"
      },
      "execution_count": null,
      "outputs": [
        {
          "output_type": "stream",
          "name": "stdout",
          "text": [
            "   Temperature  Vibration  Power_Usage   Humidity  Machine_Type  Failure_Risk\n",
            "0    74.967142  56.996777     8.649643  20.460962             2             1\n",
            "1    68.617357  54.623168     9.710963  25.698075             1             0\n",
            "2    76.476885  50.298152     8.415160  27.931972             0             1\n",
            "3    85.230299  46.765316     9.384077  39.438438             1             1\n",
            "4    67.658466  53.491117     6.212771  32.782766             0             1\n"
          ]
        }
      ]
    },
    {
      "cell_type": "markdown",
      "source": [
        "There are 3 different types of Machine types available in the dataset named Mill, Lathe, Drill. These categorial values mapped to integers using Label encoding."
      ],
      "metadata": {
        "id": "1taIAAPJC4to"
      }
    },
    {
      "cell_type": "markdown",
      "source": [
        "##### **Analyzing class imbalance**"
      ],
      "metadata": {
        "id": "p7WH3MZ7D9KG"
      }
    },
    {
      "cell_type": "code",
      "source": [
        "# Creating a figure with a specified size of 6x4 inches for better readability of the plot\n",
        "# The 'plt.figure(figsize=(6,4))' function sets the figure dimensions\n",
        "plt.figure(figsize=(6,4))\n",
        "\n",
        "# Creating a count plot using Seaborn to visualize the distribution of the 'Failure_Risk' column\n",
        "# The 'x' parameter is set to 'Failure_Risk', which represents the class labels (failure or no failure)\n",
        "# The 'data' parameter specifies the DataFrame to use\n",
        "# The 'palette' parameter is set to 'Set2', a color palette for better aesthetics\n",
        "# The 'hue' parameter is set to 'Failure_Risk', so different colors are used for different classes (0 = No Failure, 1 = Failure)\n",
        "# The 'legend=False' hides the legend, as it's unnecessary in this case (the color meaning is clear from the x-axis labels)\n",
        "sns.countplot(x='Failure_Risk', data=df, palette=\"Set2\", hue='Failure_Risk', legend=False)\n",
        "\n",
        "# Setting the title of the plot to describe the data being displayed\n",
        "plt.title(\"Class Distribution (Failure vs No Failure)\")\n",
        "\n",
        "# Labeling the x-axis to explain what the numbers (0 and 1) represent in the context of failure risk\n",
        "plt.xlabel(\"Failure Risk (0 = No Failure, 1 = Failure)\")\n",
        "\n",
        "# Labeling the y-axis to indicate that it represents the count of samples in each class\n",
        "plt.ylabel(\"Count\")\n",
        "\n",
        "# Displaying the plot to show the visual representation of the class distribution\n",
        "plt.show()"
      ],
      "metadata": {
        "colab": {
          "base_uri": "https://localhost:8080/",
          "height": 410
        },
        "id": "Mu4ooXJKEH7a",
        "outputId": "3409b974-73fe-4447-fe1e-0af99feee6e3"
      },
      "execution_count": null,
      "outputs": [
        {
          "output_type": "display_data",
          "data": {
            "text/plain": [
              "<Figure size 600x400 with 1 Axes>"
            ],
            "image/png": "[encoded data removed]"
          },
          "metadata": {}
        }
      ]
    },
    {
      "cell_type": "code",
      "source": [
        "# Using the 'value_counts()' function to count the occurrences of each unique value in the 'Failure_Risk' column\n",
        "# This helps in determining the distribution of the target variable (Failure vs No Failure) in the dataset\n",
        "failure_counts = df['Failure_Risk'].value_counts()\n",
        "\n",
        "# Printing a message to indicate that the class distribution will be displayed\n",
        "# The '\\n' adds a newline for better readability when printed\n",
        "print(\"\\n Class Distribution:\")\n",
        "\n",
        "# Printing the counts of each class (Failure and No Failure) in the 'Failure_Risk' column\n",
        "# This gives a clear view of how balanced or imbalanced the dataset is for the target variable\n",
        "print(failure_counts)"
      ],
      "metadata": {
        "colab": {
          "base_uri": "https://localhost:8080/"
        },
        "id": "uDahanX6FbJK",
        "outputId": "6f77fbf3-dcdd-45b6-d439-0a55ff3c2c02"
      },
      "execution_count": null,
      "outputs": [
        {
          "output_type": "stream",
          "name": "stdout",
          "text": [
            "\n",
            " Class Distribution:\n",
            "Failure_Risk\n",
            "0    700\n",
            "1    300\n",
            "Name: count, dtype: int64\n"
          ]
        }
      ]
    },
    {
      "cell_type": "markdown",
      "source": [
        "##### **Handling imbalance data using SMOTE**"
      ],
      "metadata": {
        "id": "4NVajSbkF5sI"
      }
    },
    {
      "cell_type": "code",
      "source": [
        "# Separating the features (X) and the target variable (y)\n",
        "# 'X' contains all columns except 'Failure_Risk', which will be used as the features\n",
        "# 'y' contains only the 'Failure_Risk' column, which is the target variable for prediction\n",
        "X = df.drop(columns=[\"Failure_Risk\"])\n",
        "y = df[\"Failure_Risk\"]\n",
        "\n",
        "# Checking if the class distribution is imbalanced by comparing the minimum and maximum class counts\n",
        "# If the ratio between the smallest and largest class counts is less than 0.5, it indicates a significant class imbalance\n",
        "if failure_counts.min() / failure_counts.max() < 0.5:\n",
        "\n",
        "    # Applying SMOTE (Synthetic Minority Over-sampling Technique) to balance the classes\n",
        "    # SMOTE generates synthetic samples to increase the number of minority class samples (e.g., 'Failure' class)\n",
        "    # 'sampling_strategy=\"auto\"' means it will balance the classes by creating as many samples as needed\n",
        "    # The 'random_state=42' ensures reproducibility of the results\n",
        "    smote = SMOTE(sampling_strategy='auto', random_state=42)\n",
        "\n",
        "    # Performing the resampling and storing the new features and target in X_resampled and y_resampled\n",
        "    X_resampled, y_resampled = smote.fit_resample(X, y)\n",
        "\n",
        "    # Creating a new DataFrame with the resampled features\n",
        "    df_resampled = pd.DataFrame(X_resampled, columns=X.columns)\n",
        "\n",
        "    # Adding the resampled target variable ('Failure_Risk') to the DataFrame\n",
        "    df_resampled[\"Failure_Risk\"] = y_resampled\n",
        "\n",
        "    # Printing a message to confirm that SMOTE has been applied\n",
        "    print(\"\\n Applied SMOTE to balance classes\")\n",
        "\n",
        "    # Displaying the new class distribution after SMOTE to verify the balance\n",
        "    print(df_resampled[\"Failure_Risk\"].value_counts())"
      ],
      "metadata": {
        "colab": {
          "base_uri": "https://localhost:8080/"
        },
        "id": "pRdFCcIWFUMa",
        "outputId": "46421c43-9fa6-428a-ac5b-40592aedeaba"
      },
      "execution_count": null,
      "outputs": [
        {
          "output_type": "stream",
          "name": "stdout",
          "text": [
            "\n",
            " Applied SMOTE to balance classes\n",
            "Failure_Risk\n",
            "1    700\n",
            "0    700\n",
            "Name: count, dtype: int64\n"
          ]
        }
      ]
    },
    {
      "cell_type": "code",
      "source": [
        "# Creating a figure with a specified size of 6x4 inches to visualize the class distribution after SMOTE\n",
        "# The 'plt.figure(figsize=(6,4))' function sets the figure dimensions\n",
        "plt.figure(figsize=(6,4))\n",
        "\n",
        "# Creating a count plot using Seaborn to visualize the distribution of the 'Failure_Risk' column after SMOTE\n",
        "# The 'x' parameter is set to 'Failure_Risk', which represents the class labels (failure or no failure)\n",
        "# The 'data' parameter specifies the resampled DataFrame (df_resampled)\n",
        "# The 'palette' parameter is set to 'Set2', a color palette for better aesthetics\n",
        "# The 'hue' parameter is set to 'Failure_Risk', so different colors are used for different classes (0 = No Failure, 1 = Failure)\n",
        "# The 'legend=False' hides the legend, as it's unnecessary in this case (the color meaning is clear from the x-axis labels)\n",
        "sns.countplot(x='Failure_Risk', data=df_resampled, palette=\"Set2\", hue='Failure_Risk', legend=False)\n",
        "\n",
        "# Setting the title of the plot to indicate that the plot shows the balanced class distribution after SMOTE\n",
        "plt.title(\"Balanced Class Distribution (After SMOTE)\")\n",
        "\n",
        "# Labeling the x-axis to explain what the numbers (0 and 1) represent in the context of failure risk\n",
        "plt.xlabel(\"Failure Risk (0 = No Failure, 1 = Failure)\")\n",
        "\n",
        "# Labeling the y-axis to indicate that it represents the count of samples in each class\n",
        "plt.ylabel(\"Count\")\n",
        "\n",
        "# Displaying the plot to show the visual representation of the class distribution after applying SMOTE\n",
        "plt.show()"
      ],
      "metadata": {
        "colab": {
          "base_uri": "https://localhost:8080/",
          "height": 410
        },
        "id": "WJO4QQh6HXk0",
        "outputId": "d1455ddc-5e8f-402f-a359-18fb5918bf7a"
      },
      "execution_count": null,
      "outputs": [
        {
          "output_type": "display_data",
          "data": {
            "text/plain": [
              "<Figure size 600x400 with 1 Axes>"
            ],
            "image/png": "[encoded data removed]"
          },
          "metadata": {}
        }
      ]
    },
    {
      "cell_type": "markdown",
      "source": [
        "##### **Saving the balanced dataset**"
      ],
      "metadata": {
        "id": "HlDnvge3IKsW"
      }
    },
    {
      "cell_type": "code",
      "source": [
        "# Saving the resampled DataFrame (df_resampled) to a new CSV file\n",
        "# The 'to_csv()' function writes the DataFrame to a CSV file\n",
        "# 'index=False' ensures that the index is not included as a separate column in the saved file\n",
        "# The file will be saved in the current working directory with the name 'balanced_machine_failure_dataset.csv'\n",
        "df_resampled.to_csv(\"balanced_machine_failure_dataset.csv\", index=False)\n",
        "\n",
        "# Printing a message to confirm that the balanced dataset has been saved successfully\n",
        "# This informs the user that the data is now stored and ready for further use or analysis\n",
        "print(\"Balanced dataset saved as 'balanced_machine_failure_dataset.csv'\")"
      ],
      "metadata": {
        "colab": {
          "base_uri": "https://localhost:8080/"
        },
        "id": "T2EgYNcLIP5y",
        "outputId": "ddc6f537-7d75-40eb-ddba-f8e38eeced79"
      },
      "execution_count": null,
      "outputs": [
        {
          "output_type": "stream",
          "name": "stdout",
          "text": [
            "Balanced dataset saved as 'balanced_machine_failure_dataset.csv'\n"
          ]
        }
      ]
    },
    {
      "cell_type": "markdown",
      "source": [
        "## **Feature Engineering**"
      ],
      "metadata": {
        "id": "j0eGBzyMLH9Q"
      }
    },
    {
      "cell_type": "code",
      "source": [
        "# Reading the balanced dataset from the CSV file 'balanced_machine_failure_dataset.csv' into a Pandas DataFrame\n",
        "# The 'pd.read_csv()' function is used to load data from a CSV file back into a DataFrame for further analysis or modeling\n",
        "df = pd.read_csv('balanced_machine_failure_dataset.csv')"
      ],
      "metadata": {
        "id": "lpbUvX7GLQTq"
      },
      "execution_count": null,
      "outputs": []
    },
    {
      "cell_type": "markdown",
      "source": [
        "##### **Scaling and Normalization (Using StandardScaler)**"
      ],
      "metadata": {
        "id": "VmzsTwYnOIAm"
      }
    },
    {
      "cell_type": "code",
      "source": [
        "# Initializing the MinMaxScaler to scale numerical features to a range between 0 and 1\n",
        "# This is useful for normalizing the data, especially when using algorithms sensitive to feature scaling\n",
        "scaler = MinMaxScaler()\n",
        "\n",
        "# Defining the list of numerical columns that need to be scaled\n",
        "# These columns contain continuous values that benefit from scaling for machine learning models\n",
        "numerical_columns = ['Temperature', 'Vibration', 'Power_Usage', 'Humidity']\n",
        "\n",
        "# Printing the first 5 rows of the numerical columns before scaling\n",
        "# This allows you to see the original values of the features before applying the scaling\n",
        "print(\"Before Scaling:\")\n",
        "print(df[numerical_columns].head())\n",
        "\n",
        "# Applying the MinMaxScaler to scale the numerical columns\n",
        "# 'fit_transform()' computes the scaling parameters and applies the transformation to the data\n",
        "df[numerical_columns] = scaler.fit_transform(df[numerical_columns])\n",
        "\n",
        "# Printing the first 5 rows of the numerical columns after scaling\n",
        "# This shows the transformed values, which should now be in the range [0, 1]\n",
        "print(\"\\n After Scaling:\")\n",
        "print(df[numerical_columns].head())\n",
        "\n",
        "# Printing the minimum and maximum values of each numerical column after scaling\n",
        "# The scaled values should be between 0 and 1, so the minimum should be 0 and the maximum should be 1\n",
        "print(\"\\n Min and Max values after scaling:\")\n",
        "print(df[numerical_columns].min())  # Min value of each column\n",
        "print(df[numerical_columns].max())  # Max value of each column"
      ],
      "metadata": {
        "colab": {
          "base_uri": "https://localhost:8080/"
        },
        "id": "CcU_FOdDOTe_",
        "outputId": "1d3fa7b3-e670-46e2-cc1c-2b405d28bc28"
      },
      "execution_count": null,
      "outputs": [
        {
          "output_type": "stream",
          "name": "stdout",
          "text": [
            "Before Scaling:\n",
            "   Temperature  Vibration  Power_Usage   Humidity\n",
            "0    74.967142  56.996777     8.649643  20.460962\n",
            "1    68.617357  54.623168     9.710963  25.698075\n",
            "2    76.476885  50.298152     8.415160  27.931972\n",
            "3    85.230299  46.765316     9.384077  39.438438\n",
            "4    67.658466  53.491117     6.212771  32.782766\n",
            "\n",
            " After Scaling:\n",
            "   Temperature  Vibration  Power_Usage  Humidity\n",
            "0     0.526922   0.707548     0.337521  0.165514\n",
            "1     0.437412   0.630150     0.413921  0.335204\n",
            "2     0.548204   0.489121     0.320641  0.407586\n",
            "3     0.671595   0.373922     0.390390  0.780414\n",
            "4     0.423895   0.593236     0.162099  0.564760\n",
            "\n",
            " Min and Max values after scaling:\n",
            "Temperature    0.0\n",
            "Vibration      0.0\n",
            "Power_Usage    0.0\n",
            "Humidity       0.0\n",
            "dtype: float64\n",
            "Temperature    1.0\n",
            "Vibration      1.0\n",
            "Power_Usage    1.0\n",
            "Humidity       1.0\n",
            "dtype: float64\n"
          ]
        }
      ]
    },
    {
      "cell_type": "markdown",
      "source": [
        "##### **Correlation Matrix**"
      ],
      "metadata": {
        "id": "JHid-JMmDPww"
      }
    },
    {
      "cell_type": "code",
      "source": [
        "# Calculating the correlation matrix for the selected numerical columns\n",
        "# The 'corr()' function computes the pairwise correlation coefficients between the numerical columns in the DataFrame\n",
        "# Correlation helps to understand the relationship between features (e.g., positive, negative, or no correlation)\n",
        "correlation_matrix = df[['Temperature', 'Vibration', 'Power_Usage', 'Humidity']].corr()\n",
        "\n",
        "# Creating a figure with a specified size of 8x6 inches to ensure the heatmap is clear and readable\n",
        "plt.figure(figsize=(8, 6))\n",
        "\n",
        "# Creating a heatmap using Seaborn to visualize the correlation matrix\n",
        "sns.heatmap(correlation_matrix, annot=True, cmap='coolwarm', fmt='.2f')\n",
        "\n",
        "# Setting the title of the heatmap to indicate that it represents the correlation matrix\n",
        "plt.title('Correlation Matrix')\n",
        "\n",
        "# Displaying the heatmap to visualize the relationships between features\n",
        "plt.show()\n"
      ],
      "metadata": {
        "colab": {
          "base_uri": "https://localhost:8080/",
          "height": 545
        },
        "id": "pcAKsdG0C9OI",
        "outputId": "4a56dbb8-2737-48de-b64c-ef6e88c26bc0"
      },
      "execution_count": null,
      "outputs": [
        {
          "output_type": "display_data",
          "data": {
            "text/plain": [
              "<Figure size 800x600 with 2 Axes>"
            ],
            "image/png": "[encoded data removed]"
          },
          "metadata": {}
        }
      ]
    },
    {
      "cell_type": "markdown",
      "source": [
        "##### **Outlier detection (Z-Score Method)**"
      ],
      "metadata": {
        "id": "cXQy3kjGUY9X"
      }
    },
    {
      "cell_type": "code",
      "source": [
        "# Defining a list of column names that represent the numerical features of interest in the dataset\n",
        "z_columns = [ 'Temperature', 'Vibration', 'Power_Usage', 'Humidity']"
      ],
      "metadata": {
        "id": "88EV6Degmsl9"
      },
      "execution_count": null,
      "outputs": []
    },
    {
      "cell_type": "code",
      "source": [
        "# Calculating the Z-scores for the numerical columns in 'z_columns' (Temperature, Vibration, Power_Usage, and Humidity)\n",
        "# Z-score is a standardization technique that transforms the data to have a mean of 0 and a standard deviation of 1\n",
        "# The 'apply()' function applies the lambda function to each column to compute the Z-score for each value\n",
        "# The lambda function computes the Z-score as (x - mean) / std for each element in the column\n",
        "df_z_scores = df[z_columns].apply(lambda x: (x - x.mean()) / x.std())\n",
        "\n",
        "# Identifying outliers by checking if any Z-score is greater than 3 or less than -3\n",
        "# Typically, a Z-score greater than 3 or less than -3 is considered an outlier (i.e., values far from the mean)\n",
        "# The 'np.abs(df_z_scores)' computes the absolute value of the Z-scores, and 'any(axis=1)' checks if any value in a row is greater than 3\n",
        "outliers = (np.abs(df_z_scores) > 3).any(axis=1)\n",
        "\n",
        "# Creating a new DataFrame ('df_no_outliers') by excluding the rows that contain outliers\n",
        "# The '~outliers' condition selects only the rows where no outliers were detected (i.e., where outliers is False)\n",
        "df_no_outliers = df[~outliers]"
      ],
      "metadata": {
        "id": "STvuznreU1A7"
      },
      "execution_count": null,
      "outputs": []
    },
    {
      "cell_type": "code",
      "source": [
        "# Printing the shape (number of rows and columns) of the original DataFrame before removing outliers\n",
        "# The '.shape' attribute returns a tuple (number of rows, number of columns) for the DataFrame\n",
        "print(f\"Original data shape: {df.shape}\")\n",
        "\n",
        "# Printing the shape of the DataFrame after removing the rows containing outliers\n",
        "# The '.shape' attribute is used again to show the number of rows and columns in the DataFrame 'df_no_outliers'\n",
        "# This helps to verify how many rows were removed by comparing the shapes before and after outlier removal\n",
        "print(f\"Data shape after removing outliers: {df_no_outliers.shape}\")"
      ],
      "metadata": {
        "colab": {
          "base_uri": "https://localhost:8080/"
        },
        "id": "ld13rW9AU5Ie",
        "outputId": "075c602c-28ac-40e4-cb50-05636b9e800b"
      },
      "execution_count": null,
      "outputs": [
        {
          "output_type": "stream",
          "name": "stdout",
          "text": [
            "Original data shape: (1400, 6)\n",
            "Data shape after removing outliers: (1381, 6)\n"
          ]
        }
      ]
    },
    {
      "cell_type": "code",
      "source": [
        "# Saving the preprocessed DataFrame (df_no_outliers) to a new CSV file called 'preprocessed_machine_failure_dataset.csv'\n",
        "# The 'to_csv()' function is used to write the DataFrame to a CSV file, with the 'index=False' argument to exclude the index from being saved as a separate column in the file\n",
        "# This ensures the cleaned dataset (after removing outliers) is saved for future use or analysis\n",
        "df_no_outliers.to_csv(\"preprocessed_machine_failure_dataset.csv\", index=False)\n",
        "\n",
        "# Printing a confirmation message that the preprocessed dataset has been saved successfully\n",
        "# This provides feedback to the user that the dataset is stored with the applied modifications (e.g., outlier removal)\n",
        "print(\"Preprocessed dataset saved as 'preprocessed_machine_failure_dataset.csv'\")"
      ],
      "metadata": {
        "colab": {
          "base_uri": "https://localhost:8080/"
        },
        "id": "qKbiEqWMV403",
        "outputId": "22140fe4-96c3-4bf2-ec55-9d8ba3cd5d7f"
      },
      "execution_count": null,
      "outputs": [
        {
          "output_type": "stream",
          "name": "stdout",
          "text": [
            "Preprocessed dataset saved as 'preprocessed_machine_failure_dataset.csv'\n"
          ]
        }
      ]
    },
    {
      "cell_type": "markdown",
      "source": [
        "## **Model Selection, Training and Evaluation**"
      ],
      "metadata": {
        "id": "I6Vs97OchUoN"
      }
    },
    {
      "cell_type": "code",
      "source": [
        "# Reading the preprocessed dataset from the CSV file 'preprocessed_machine_failure_dataset.csv' back into a Pandas DataFrame\n",
        "# The 'pd.read_csv()' function loads the cleaned dataset (with outliers removed) for further analysis or model building\n",
        "df = pd.read_csv(\"preprocessed_machine_failure_dataset.csv\")"
      ],
      "metadata": {
        "id": "6Mgi9ZPCJNqt"
      },
      "execution_count": null,
      "outputs": []
    },
    {
      "cell_type": "code",
      "source": [
        "# Selecting the feature columns (X) that will be used as input for the machine learning model\n",
        "X = df[['Temperature', 'Vibration', 'Power_Usage', 'Humidity', 'Machine_Type']]\n",
        "\n",
        "# Selecting the target column (y) that the model will try to predict\n",
        "y = df['Failure_Risk']"
      ],
      "metadata": {
        "id": "yZM8IM47vIAG"
      },
      "execution_count": null,
      "outputs": []
    },
    {
      "cell_type": "code",
      "source": [
        "# Splitting the data into training and testing sets using 'train_test_split' from scikit-learn\n",
        "# The 'X' and 'y' variables are split into training and testing data\n",
        "# 'test_size=0.3' means 30% of the data will be used for testing, and 70% will be used for training the model\n",
        "# 'random_state=42' ensures reproducibility of the split by fixing the random seed, so the split is consistent across different runs\n",
        "# The function returns four variables: X_train, X_test, y_train, and y_test, which will be used for training and evaluation\n",
        "X_train, X_test, y_train, y_test = train_test_split(X, y, test_size=0.3, random_state=42)"
      ],
      "metadata": {
        "id": "Qlism1oXhlST"
      },
      "execution_count": null,
      "outputs": []
    },
    {
      "cell_type": "code",
      "source": [
        "# Initializing the RandomForestClassifier model from scikit-learn\n",
        "# RandomForestClassifier is an ensemble learning algorithm that creates multiple decision trees and merges them together to get a more accurate and stable prediction\n",
        "# 'random_state=42' ensures the results are reproducible by fixing the random seed, so the model's behavior is consistent across different runs\n",
        "rf_model = RandomForestClassifier(random_state=42)"
      ],
      "metadata": {
        "id": "owLgknqGhnqq"
      },
      "execution_count": null,
      "outputs": []
    },
    {
      "cell_type": "code",
      "source": [
        "# Defining a parameter grid for hyperparameter tuning using GridSearchCV\n",
        "# The parameter grid specifies different values for the hyperparameters of the RandomForestClassifier to explore during the search for the best model configuration\n",
        "# 'n_estimators' specifies the number of trees in the forest (100, 200, or 300 trees)\n",
        "# 'max_depth' controls the maximum depth of each tree (10, 20, or no limit)\n",
        "# 'min_samples_split' is the minimum number of samples required to split an internal node (2, 5, or 10 samples)\n",
        "# 'min_samples_leaf' is the minimum number of samples required to be at a leaf node (1, 2, or 4 samples)\n",
        "# 'bootstrap' specifies whether bootstrap samples are used when building trees (True or False)\n",
        "# This grid will be used in GridSearchCV to find the optimal combination of hyperparameters for the model\n",
        "param_grid = {\n",
        "    'n_estimators': [100, 200, 300],\n",
        "    'max_depth': [10, 20, None],\n",
        "    'min_samples_split': [2, 5, 10],\n",
        "    'min_samples_leaf': [1, 2, 4],\n",
        "    'bootstrap': [True, False]\n",
        "}"
      ],
      "metadata": {
        "id": "picNaONKhqch"
      },
      "execution_count": null,
      "outputs": []
    },
    {
      "cell_type": "code",
      "source": [
        "# Initializing the GridSearchCV object to perform hyperparameter tuning using cross-validation\n",
        "# GridSearchCV exhaustively tests all possible combinations of hyperparameters specified in 'param_grid'\n",
        "# 'estimator=rf_model' specifies the model (RandomForestClassifier) that we want to tune\n",
        "# 'param_grid=param_grid' is the dictionary containing the hyperparameters and their possible values for the search\n",
        "# 'cv=3' means that 3-fold cross-validation will be used during the search to evaluate the model’s performance on different subsets of the training data\n",
        "# 'n_jobs=-1' uses all available CPU cores for parallel processing, speeding up the search\n",
        "# 'verbose=2' provides detailed output during the search process to track the progress\n",
        "grid_search = GridSearchCV(estimator=rf_model, param_grid=param_grid, cv=3, n_jobs=-1, verbose=2)\n",
        "grid_search.fit(X_train, y_train)"
      ],
      "metadata": {
        "colab": {
          "base_uri": "https://localhost:8080/",
          "height": 182
        },
        "id": "1GK0ZG51hsx6",
        "outputId": "60a66c3d-d606-468d-f0c1-28857e76377b"
      },
      "execution_count": null,
      "outputs": [
        {
          "output_type": "stream",
          "name": "stdout",
          "text": [
            "Fitting 3 folds for each of 162 candidates, totalling 486 fits\n"
          ]
        },
        {
          "output_type": "execute_result",
          "data": {
            "text/plain": [
              "GridSearchCV(cv=3, estimator=RandomForestClassifier(random_state=42), n_jobs=-1,\n",
              "             param_grid={'bootstrap': [True, False],\n",
              "                         'max_depth': [10, 20, None],\n",
              "                         'min_samples_leaf': [1, 2, 4],\n",
              "                         'min_samples_split': [2, 5, 10],\n",
              "                         'n_estimators': [100, 200, 300]},\n",
              "             verbose=2)"
            ],
            "text/html": [
              "<style>#sk-container-id-1 {\n",
              "  /* Definition of color scheme common for light and dark mode */\n",
              "  --sklearn-color-text: #000;\n",
              "  --sklearn-color-text-muted: #666;\n",
              "  --sklearn-color-line: gray;\n",
              "  /* Definition of color scheme for unfitted estimators */\n",
              "  --sklearn-color-unfitted-level-0: #fff5e6;\n",
              "  --sklearn-color-unfitted-level-1: #f6e4d2;\n",
              "  --sklearn-color-unfitted-level-2: #ffe0b3;\n",
              "  --sklearn-color-unfitted-level-3: chocolate;\n",
              "  /* Definition of color scheme for fitted estimators */\n",
              "  --sklearn-color-fitted-level-0: #f0f8ff;\n",
              "  --sklearn-color-fitted-level-1: #d4ebff;\n",
              "  --sklearn-color-fitted-level-2: #b3dbfd;\n",
              "  --sklearn-color-fitted-level-3: cornflowerblue;\n",
              "\n",
              "  /* Specific color for light theme */\n",
              "  --sklearn-color-text-on-default-background: var(--sg-text-color, var(--theme-code-foreground, var(--jp-content-font-color1, black)));\n",
              "  --sklearn-color-background: var(--sg-background-color, var(--theme-background, var(--jp-layout-color0, white)));\n",
              "  --sklearn-color-border-box: var(--sg-text-color, var(--theme-code-foreground, var(--jp-content-font-color1, black)));\n",
              "  --sklearn-color-icon: #696969;\n",
              "\n",
              "  @media (prefers-color-scheme: dark) {\n",
              "    /* Redefinition of color scheme for dark theme */\n",
              "    --sklearn-color-text-on-default-background: var(--sg-text-color, var(--theme-code-foreground, var(--jp-content-font-color1, white)));\n",
              "    --sklearn-color-background: var(--sg-background-color, var(--theme-background, var(--jp-layout-color0, #111)));\n",
              "    --sklearn-color-border-box: var(--sg-text-color, var(--theme-code-foreground, var(--jp-content-font-color1, white)));\n",
              "    --sklearn-color-icon: #878787;\n",
              "  }\n",
              "}\n",
              "\n",
              "#sk-container-id-1 {\n",
              "  color: var(--sklearn-color-text);\n",
              "}\n",
              "\n",
              "#sk-container-id-1 pre {\n",
              "  padding: 0;\n",
              "}\n",
              "\n",
              "#sk-container-id-1 input.sk-hidden--visually {\n",
              "  border: 0;\n",
              "  clip: rect(1px 1px 1px 1px);\n",
              "  clip: rect(1px, 1px, 1px, 1px);\n",
              "  height: 1px;\n",
              "  margin: -1px;\n",
              "  overflow: hidden;\n",
              "  padding: 0;\n",
              "  position: absolute;\n",
              "  width: 1px;\n",
              "}\n",
              "\n",
              "#sk-container-id-1 div.sk-dashed-wrapped {\n",
              "  border: 1px dashed var(--sklearn-color-line);\n",
              "  margin: 0 0.4em 0.5em 0.4em;\n",
              "  box-sizing: border-box;\n",
              "  padding-bottom: 0.4em;\n",
              "  background-color: var(--sklearn-color-background);\n",
              "}\n",
              "\n",
              "#sk-container-id-1 div.sk-container {\n",
              "  /* jupyter's `normalize.less` sets `[hidden] { display: none; }`\n",
              "     but bootstrap.min.css set `[hidden] { display: none !important; }`\n",
              "     so we also need the `!important` here to be able to override the\n",
              "     default hidden behavior on the sphinx rendered scikit-learn.org.\n",
              "     See: https://github.com/scikit-learn/scikit-learn/issues/21755 */\n",
              "  display: inline-block !important;\n",
              "  position: relative;\n",
              "}\n",
              "\n",
              "#sk-container-id-1 div.sk-text-repr-fallback {\n",
              "  display: none;\n",
              "}\n",
              "\n",
              "div.sk-parallel-item,\n",
              "div.sk-serial,\n",
              "div.sk-item {\n",
              "  /* draw centered vertical line to link estimators */\n",
              "  background-image: linear-gradient(var(--sklearn-color-text-on-default-background), var(--sklearn-color-text-on-default-background));\n",
              "  background-size: 2px 100%;\n",
              "  background-repeat: no-repeat;\n",
              "  background-position: center center;\n",
              "}\n",
              "\n",
              "/* Parallel-specific style estimator block */\n",
              "\n",
              "#sk-container-id-1 div.sk-parallel-item::after {\n",
              "  content: \"\";\n",
              "  width: 100%;\n",
              "  border-bottom: 2px solid var(--sklearn-color-text-on-default-background);\n",
              "  flex-grow: 1;\n",
              "}\n",
              "\n",
              "#sk-container-id-1 div.sk-parallel {\n",
              "  display: flex;\n",
              "  align-items: stretch;\n",
              "  justify-content: center;\n",
              "  background-color: var(--sklearn-color-background);\n",
              "  position: relative;\n",
              "}\n",
              "\n",
              "#sk-container-id-1 div.sk-parallel-item {\n",
              "  display: flex;\n",
              "  flex-direction: column;\n",
              "}\n",
              "\n",
              "#sk-container-id-1 div.sk-parallel-item:first-child::after {\n",
              "  align-self: flex-end;\n",
              "  width: 50%;\n",
              "}\n",
              "\n",
              "#sk-container-id-1 div.sk-parallel-item:last-child::after {\n",
              "  align-self: flex-start;\n",
              "  width: 50%;\n",
              "}\n",
              "\n",
              "#sk-container-id-1 div.sk-parallel-item:only-child::after {\n",
              "  width: 0;\n",
              "}\n",
              "\n",
              "/* Serial-specific style estimator block */\n",
              "\n",
              "#sk-container-id-1 div.sk-serial {\n",
              "  display: flex;\n",
              "  flex-direction: column;\n",
              "  align-items: center;\n",
              "  background-color: var(--sklearn-color-background);\n",
              "  padding-right: 1em;\n",
              "  padding-left: 1em;\n",
              "}\n",
              "\n",
              "\n",
              "/* Toggleable style: style used for estimator/Pipeline/ColumnTransformer box that is\n",
              "clickable and can be expanded/collapsed.\n",
              "- Pipeline and ColumnTransformer use this feature and define the default style\n",
              "- Estimators will overwrite some part of the style using the `sk-estimator` class\n",
              "*/\n",
              "\n",
              "/* Pipeline and ColumnTransformer style (default) */\n",
              "\n",
              "#sk-container-id-1 div.sk-toggleable {\n",
              "  /* Default theme specific background. It is overwritten whether we have a\n",
              "  specific estimator or a Pipeline/ColumnTransformer */\n",
              "  background-color: var(--sklearn-color-background);\n",
              "}\n",
              "\n",
              "/* Toggleable label */\n",
              "#sk-container-id-1 label.sk-toggleable__label {\n",
              "  cursor: pointer;\n",
              "  display: flex;\n",
              "  width: 100%;\n",
              "  margin-bottom: 0;\n",
              "  padding: 0.5em;\n",
              "  box-sizing: border-box;\n",
              "  text-align: center;\n",
              "  align-items: start;\n",
              "  justify-content: space-between;\n",
              "  gap: 0.5em;\n",
              "}\n",
              "\n",
              "#sk-container-id-1 label.sk-toggleable__label .caption {\n",
              "  font-size: 0.6rem;\n",
              "  font-weight: lighter;\n",
              "  color: var(--sklearn-color-text-muted);\n",
              "}\n",
              "\n",
              "#sk-container-id-1 label.sk-toggleable__label-arrow:before {\n",
              "  /* Arrow on the left of the label */\n",
              "  content: \"▸\";\n",
              "  float: left;\n",
              "  margin-right: 0.25em;\n",
              "  color: var(--sklearn-color-icon);\n",
              "}\n",
              "\n",
              "#sk-container-id-1 label.sk-toggleable__label-arrow:hover:before {\n",
              "  color: var(--sklearn-color-text);\n",
              "}\n",
              "\n",
              "/* Toggleable content - dropdown */\n",
              "\n",
              "#sk-container-id-1 div.sk-toggleable__content {\n",
              "  max-height: 0;\n",
              "  max-width: 0;\n",
              "  overflow: hidden;\n",
              "  text-align: left;\n",
              "  /* unfitted */\n",
              "  background-color: var(--sklearn-color-unfitted-level-0);\n",
              "}\n",
              "\n",
              "#sk-container-id-1 div.sk-toggleable__content.fitted {\n",
              "  /* fitted */\n",
              "  background-color: var(--sklearn-color-fitted-level-0);\n",
              "}\n",
              "\n",
              "#sk-container-id-1 div.sk-toggleable__content pre {\n",
              "  margin: 0.2em;\n",
              "  border-radius: 0.25em;\n",
              "  color: var(--sklearn-color-text);\n",
              "  /* unfitted */\n",
              "  background-color: var(--sklearn-color-unfitted-level-0);\n",
              "}\n",
              "\n",
              "#sk-container-id-1 div.sk-toggleable__content.fitted pre {\n",
              "  /* unfitted */\n",
              "  background-color: var(--sklearn-color-fitted-level-0);\n",
              "}\n",
              "\n",
              "#sk-container-id-1 input.sk-toggleable__control:checked~div.sk-toggleable__content {\n",
              "  /* Expand drop-down */\n",
              "  max-height: 200px;\n",
              "  max-width: 100%;\n",
              "  overflow: auto;\n",
              "}\n",
              "\n",
              "#sk-container-id-1 input.sk-toggleable__control:checked~label.sk-toggleable__label-arrow:before {\n",
              "  content: \"▾\";\n",
              "}\n",
              "\n",
              "/* Pipeline/ColumnTransformer-specific style */\n",
              "\n",
              "#sk-container-id-1 div.sk-label input.sk-toggleable__control:checked~label.sk-toggleable__label {\n",
              "  color: var(--sklearn-color-text);\n",
              "  background-color: var(--sklearn-color-unfitted-level-2);\n",
              "}\n",
              "\n",
              "#sk-container-id-1 div.sk-label.fitted input.sk-toggleable__control:checked~label.sk-toggleable__label {\n",
              "  background-color: var(--sklearn-color-fitted-level-2);\n",
              "}\n",
              "\n",
              "/* Estimator-specific style */\n",
              "\n",
              "/* Colorize estimator box */\n",
              "#sk-container-id-1 div.sk-estimator input.sk-toggleable__control:checked~label.sk-toggleable__label {\n",
              "  /* unfitted */\n",
              "  background-color: var(--sklearn-color-unfitted-level-2);\n",
              "}\n",
              "\n",
              "#sk-container-id-1 div.sk-estimator.fitted input.sk-toggleable__control:checked~label.sk-toggleable__label {\n",
              "  /* fitted */\n",
              "  background-color: var(--sklearn-color-fitted-level-2);\n",
              "}\n",
              "\n",
              "#sk-container-id-1 div.sk-label label.sk-toggleable__label,\n",
              "#sk-container-id-1 div.sk-label label {\n",
              "  /* The background is the default theme color */\n",
              "  color: var(--sklearn-color-text-on-default-background);\n",
              "}\n",
              "\n",
              "/* On hover, darken the color of the background */\n",
              "#sk-container-id-1 div.sk-label:hover label.sk-toggleable__label {\n",
              "  color: var(--sklearn-color-text);\n",
              "  background-color: var(--sklearn-color-unfitted-level-2);\n",
              "}\n",
              "\n",
              "/* Label box, darken color on hover, fitted */\n",
              "#sk-container-id-1 div.sk-label.fitted:hover label.sk-toggleable__label.fitted {\n",
              "  color: var(--sklearn-color-text);\n",
              "  background-color: var(--sklearn-color-fitted-level-2);\n",
              "}\n",
              "\n",
              "/* Estimator label */\n",
              "\n",
              "#sk-container-id-1 div.sk-label label {\n",
              "  font-family: monospace;\n",
              "  font-weight: bold;\n",
              "  display: inline-block;\n",
              "  line-height: 1.2em;\n",
              "}\n",
              "\n",
              "#sk-container-id-1 div.sk-label-container {\n",
              "  text-align: center;\n",
              "}\n",
              "\n",
              "/* Estimator-specific */\n",
              "#sk-container-id-1 div.sk-estimator {\n",
              "  font-family: monospace;\n",
              "  border: 1px dotted var(--sklearn-color-border-box);\n",
              "  border-radius: 0.25em;\n",
              "  box-sizing: border-box;\n",
              "  margin-bottom: 0.5em;\n",
              "  /* unfitted */\n",
              "  background-color: var(--sklearn-color-unfitted-level-0);\n",
              "}\n",
              "\n",
              "#sk-container-id-1 div.sk-estimator.fitted {\n",
              "  /* fitted */\n",
              "  background-color: var(--sklearn-color-fitted-level-0);\n",
              "}\n",
              "\n",
              "/* on hover */\n",
              "#sk-container-id-1 div.sk-estimator:hover {\n",
              "  /* unfitted */\n",
              "  background-color: var(--sklearn-color-unfitted-level-2);\n",
              "}\n",
              "\n",
              "#sk-container-id-1 div.sk-estimator.fitted:hover {\n",
              "  /* fitted */\n",
              "  background-color: var(--sklearn-color-fitted-level-2);\n",
              "}\n",
              "\n",
              "/* Specification for estimator info (e.g. \"i\" and \"?\") */\n",
              "\n",
              "/* Common style for \"i\" and \"?\" */\n",
              "\n",
              ".sk-estimator-doc-link,\n",
              "a:link.sk-estimator-doc-link,\n",
              "a:visited.sk-estimator-doc-link {\n",
              "  float: right;\n",
              "  font-size: smaller;\n",
              "  line-height: 1em;\n",
              "  font-family: monospace;\n",
              "  background-color: var(--sklearn-color-background);\n",
              "  border-radius: 1em;\n",
              "  height: 1em;\n",
              "  width: 1em;\n",
              "  text-decoration: none !important;\n",
              "  margin-left: 0.5em;\n",
              "  text-align: center;\n",
              "  /* unfitted */\n",
              "  border: var(--sklearn-color-unfitted-level-1) 1pt solid;\n",
              "  color: var(--sklearn-color-unfitted-level-1);\n",
              "}\n",
              "\n",
              ".sk-estimator-doc-link.fitted,\n",
              "a:link.sk-estimator-doc-link.fitted,\n",
              "a:visited.sk-estimator-doc-link.fitted {\n",
              "  /* fitted */\n",
              "  border: var(--sklearn-color-fitted-level-1) 1pt solid;\n",
              "  color: var(--sklearn-color-fitted-level-1);\n",
              "}\n",
              "\n",
              "/* On hover */\n",
              "div.sk-estimator:hover .sk-estimator-doc-link:hover,\n",
              ".sk-estimator-doc-link:hover,\n",
              "div.sk-label-container:hover .sk-estimator-doc-link:hover,\n",
              ".sk-estimator-doc-link:hover {\n",
              "  /* unfitted */\n",
              "  background-color: var(--sklearn-color-unfitted-level-3);\n",
              "  color: var(--sklearn-color-background);\n",
              "  text-decoration: none;\n",
              "}\n",
              "\n",
              "div.sk-estimator.fitted:hover .sk-estimator-doc-link.fitted:hover,\n",
              ".sk-estimator-doc-link.fitted:hover,\n",
              "div.sk-label-container:hover .sk-estimator-doc-link.fitted:hover,\n",
              ".sk-estimator-doc-link.fitted:hover {\n",
              "  /* fitted */\n",
              "  background-color: var(--sklearn-color-fitted-level-3);\n",
              "  color: var(--sklearn-color-background);\n",
              "  text-decoration: none;\n",
              "}\n",
              "\n",
              "/* Span, style for the box shown on hovering the info icon */\n",
              ".sk-estimator-doc-link span {\n",
              "  display: none;\n",
              "  z-index: 9999;\n",
              "  position: relative;\n",
              "  font-weight: normal;\n",
              "  right: .2ex;\n",
              "  padding: .5ex;\n",
              "  margin: .5ex;\n",
              "  width: min-content;\n",
              "  min-width: 20ex;\n",
              "  max-width: 50ex;\n",
              "  color: var(--sklearn-color-text);\n",
              "  box-shadow: 2pt 2pt 4pt #999;\n",
              "  /* unfitted */\n",
              "  background: var(--sklearn-color-unfitted-level-0);\n",
              "  border: .5pt solid var(--sklearn-color-unfitted-level-3);\n",
              "}\n",
              "\n",
              ".sk-estimator-doc-link.fitted span {\n",
              "  /* fitted */\n",
              "  background: var(--sklearn-color-fitted-level-0);\n",
              "  border: var(--sklearn-color-fitted-level-3);\n",
              "}\n",
              "\n",
              ".sk-estimator-doc-link:hover span {\n",
              "  display: block;\n",
              "}\n",
              "\n",
              "/* \"?\"-specific style due to the `<a>` HTML tag */\n",
              "\n",
              "#sk-container-id-1 a.estimator_doc_link {\n",
              "  float: right;\n",
              "  font-size: 1rem;\n",
              "  line-height: 1em;\n",
              "  font-family: monospace;\n",
              "  background-color: var(--sklearn-color-background);\n",
              "  border-radius: 1rem;\n",
              "  height: 1rem;\n",
              "  width: 1rem;\n",
              "  text-decoration: none;\n",
              "  /* unfitted */\n",
              "  color: var(--sklearn-color-unfitted-level-1);\n",
              "  border: var(--sklearn-color-unfitted-level-1) 1pt solid;\n",
              "}\n",
              "\n",
              "#sk-container-id-1 a.estimator_doc_link.fitted {\n",
              "  /* fitted */\n",
              "  border: var(--sklearn-color-fitted-level-1) 1pt solid;\n",
              "  color: var(--sklearn-color-fitted-level-1);\n",
              "}\n",
              "\n",
              "/* On hover */\n",
              "#sk-container-id-1 a.estimator_doc_link:hover {\n",
              "  /* unfitted */\n",
              "  background-color: var(--sklearn-color-unfitted-level-3);\n",
              "  color: var(--sklearn-color-background);\n",
              "  text-decoration: none;\n",
              "}\n",
              "\n",
              "#sk-container-id-1 a.estimator_doc_link.fitted:hover {\n",
              "  /* fitted */\n",
              "  background-color: var(--sklearn-color-fitted-level-3);\n",
              "}\n",
              "</style><div id=\"sk-container-id-1\" class=\"sk-top-container\"><div class=\"sk-text-repr-fallback\"><pre>GridSearchCV(cv=3, estimator=RandomForestClassifier(random_state=42), n_jobs=-1,\n",
              "             param_grid={&#x27;bootstrap&#x27;: [True, False],\n",
              "                         &#x27;max_depth&#x27;: [10, 20, None],\n",
              "                         &#x27;min_samples_leaf&#x27;: [1, 2, 4],\n",
              "                         &#x27;min_samples_split&#x27;: [2, 5, 10],\n",
              "                         &#x27;n_estimators&#x27;: [100, 200, 300]},\n",
              "             verbose=2)</pre><b>In a Jupyter environment, please rerun this cell to show the HTML representation or trust the notebook. <br />On GitHub, the HTML representation is unable to render, please try loading this page with nbviewer.org.</b></div><div class=\"sk-container\" hidden><div class=\"sk-item sk-dashed-wrapped\"><div class=\"sk-label-container\"><div class=\"sk-label fitted sk-toggleable\"><input class=\"sk-toggleable__control sk-hidden--visually\" id=\"sk-estimator-id-1\" type=\"checkbox\" ><label for=\"sk-estimator-id-1\" class=\"sk-toggleable__label fitted sk-toggleable__label-arrow\"><div><div>GridSearchCV</div></div><div><a class=\"sk-estimator-doc-link fitted\" rel=\"noreferrer\" target=\"_blank\" href=\"https://scikit-learn.org/1.6/modules/generated/sklearn.model_selection.GridSearchCV.html\">?<span>Documentation for GridSearchCV</span></a><span class=\"sk-estimator-doc-link fitted\">i<span>Fitted</span></span></div></label><div class=\"sk-toggleable__content fitted\"><pre>GridSearchCV(cv=3, estimator=RandomForestClassifier(random_state=42), n_jobs=-1,\n",
              "             param_grid={&#x27;bootstrap&#x27;: [True, False],\n",
              "                         &#x27;max_depth&#x27;: [10, 20, None],\n",
              "                         &#x27;min_samples_leaf&#x27;: [1, 2, 4],\n",
              "                         &#x27;min_samples_split&#x27;: [2, 5, 10],\n",
              "                         &#x27;n_estimators&#x27;: [100, 200, 300]},\n",
              "             verbose=2)</pre></div> </div></div><div class=\"sk-parallel\"><div class=\"sk-parallel-item\"><div class=\"sk-item\"><div class=\"sk-label-container\"><div class=\"sk-label fitted sk-toggleable\"><input class=\"sk-toggleable__control sk-hidden--visually\" id=\"sk-estimator-id-2\" type=\"checkbox\" ><label for=\"sk-estimator-id-2\" class=\"sk-toggleable__label fitted sk-toggleable__label-arrow\"><div><div>best_estimator_: RandomForestClassifier</div></div></label><div class=\"sk-toggleable__content fitted\"><pre>RandomForestClassifier(min_samples_split=5, n_estimators=200, random_state=42)</pre></div> </div></div><div class=\"sk-serial\"><div class=\"sk-item\"><div class=\"sk-estimator fitted sk-toggleable\"><input class=\"sk-toggleable__control sk-hidden--visually\" id=\"sk-estimator-id-3\" type=\"checkbox\" ><label for=\"sk-estimator-id-3\" class=\"sk-toggleable__label fitted sk-toggleable__label-arrow\"><div><div>RandomForestClassifier</div></div><div><a class=\"sk-estimator-doc-link fitted\" rel=\"noreferrer\" target=\"_blank\" href=\"https://scikit-learn.org/1.6/modules/generated/sklearn.ensemble.RandomForestClassifier.html\">?<span>Documentation for RandomForestClassifier</span></a></div></label><div class=\"sk-toggleable__content fitted\"><pre>RandomForestClassifier(min_samples_split=5, n_estimators=200, random_state=42)</pre></div> </div></div></div></div></div></div></div></div></div>"
            ]
          },
          "metadata": {},
          "execution_count": 25
        }
      ]
    },
    {
      "cell_type": "code",
      "source": [
        "# Extracting the best RandomForest model from the grid search based on the highest performance during cross-validation\n",
        "# 'grid_search.best_estimator_' returns the model with the optimal hyperparameters found during the GridSearchCV process\n",
        "best_rf_model = grid_search.best_estimator_\n",
        "\n",
        "# Printing the best hyperparameters found during the grid search\n",
        "# 'grid_search.best_params_' returns a dictionary containing the hyperparameter values that resulted in the best model performance\n",
        "print(\"Best hyperparameters: \", grid_search.best_params_)"
      ],
      "metadata": {
        "colab": {
          "base_uri": "https://localhost:8080/"
        },
        "id": "rMyLdFhXhvfi",
        "outputId": "49bc7a11-e342-4dd0-b98e-c6e39c81163b"
      },
      "execution_count": null,
      "outputs": [
        {
          "output_type": "stream",
          "name": "stdout",
          "text": [
            "Best hyperparameters:  {'bootstrap': True, 'max_depth': None, 'min_samples_leaf': 1, 'min_samples_split': 5, 'n_estimators': 200}\n"
          ]
        }
      ]
    },
    {
      "cell_type": "code",
      "source": [
        "# Using the best RandomForest model (best_rf_model) to make predictions on the test set (X_test)\n",
        "# The 'predict()' function generates predicted labels (Failure_Risk) based on the feature values in the test set\n",
        "# 'y_pred' will contain the predicted target values that can be compared with the actual values (y_test) for evaluation\n",
        "y_pred = best_rf_model.predict(X_test)"
      ],
      "metadata": {
        "id": "pxCbRz61hyNQ"
      },
      "execution_count": null,
      "outputs": []
    },
    {
      "cell_type": "code",
      "source": [
        "# Evaluating the performance of the RandomForest model on the test set by calculating various classification metrics\n",
        "\n",
        "# 'accuracy_score()' computes the accuracy of the model, which is the proportion of correct predictions out of all predictions\n",
        "# It compares the predicted labels (y_pred) to the actual labels (y_test) to determine how often the model is correct\n",
        "print(\"Accuracy: \", accuracy_score(y_test, y_pred))\n",
        "\n",
        "# 'precision_score()' calculates the precision of the model, which is the proportion of true positive predictions among all positive predictions\n",
        "# This metric is important for measuring how many of the predicted failures were actual failures\n",
        "print(\"Precision: \", precision_score(y_test, y_pred))\n",
        "\n",
        "# 'recall_score()' calculates the recall of the model, which is the proportion of true positive predictions among all actual positive instances\n",
        "# Recall is important for evaluating how many of the actual failures were correctly identified by the model\n",
        "print(\"Recall: \", recall_score(y_test, y_pred))\n",
        "\n",
        "# 'f1_score()' computes the F1-Score, which is the harmonic mean of precision and recall, providing a balanced measure of model performance\n",
        "# It is especially useful when there is an uneven class distribution, as it combines both precision and recall into a single value\n",
        "print(\"F1-Score: \", f1_score(y_test, y_pred))\n",
        "\n",
        "# 'classification_report()' generates a detailed report with precision, recall, F1-score, and support for each class in the target variable\n",
        "# It provides a comprehensive evaluation of the model's performance across all classes\n",
        "print(\"Classification Report: \")\n",
        "print(classification_report(y_test, y_pred))"
      ],
      "metadata": {
        "colab": {
          "base_uri": "https://localhost:8080/"
        },
        "id": "ITVgT_l2j82c",
        "outputId": "b09ae20f-65ce-46a0-e448-347aa2577ff9"
      },
      "execution_count": null,
      "outputs": [
        {
          "output_type": "stream",
          "name": "stdout",
          "text": [
            "Accuracy:  0.7204819277108434\n",
            "Precision:  0.6936170212765957\n",
            "Recall:  0.7874396135265701\n",
            "F1-Score:  0.7375565610859729\n",
            "Classification Report: \n",
            "              precision    recall  f1-score   support\n",
            "\n",
            "           0       0.76      0.65      0.70       208\n",
            "           1       0.69      0.79      0.74       207\n",
            "\n",
            "    accuracy                           0.72       415\n",
            "   macro avg       0.72      0.72      0.72       415\n",
            "weighted avg       0.72      0.72      0.72       415\n",
            "\n"
          ]
        }
      ]
    },
    {
      "cell_type": "markdown",
      "source": [
        "##### **Confusion Matrix**"
      ],
      "metadata": {
        "id": "wp6HF0hnpcDz"
      }
    },
    {
      "cell_type": "code",
      "source": [
        "# Generating the confusion matrix to evaluate the performance of the model in terms of true positives, false positives, true negatives, and false negatives\n",
        "# 'confusion_matrix()' compares the actual labels (y_test) with the predicted labels (y_pred)\n",
        "# It returns a 2x2 matrix:\n",
        "# - True Positive (TP) - correctly predicted failures\n",
        "# - False Positive (FP) - incorrectly predicted failures (actual no failure)\n",
        "# - True Negative (TN) - correctly predicted no failures\n",
        "# - False Negative (FN) - incorrectly predicted no failures (actual failure)\n",
        "conf_matrix = confusion_matrix(y_test, y_pred)\n",
        "\n",
        "# Creating a heatmap to visualize the confusion matrix\n",
        "# The 'sns.heatmap()' function is used to display the confusion matrix as a colored grid\n",
        "# 'annot=True' adds the numeric values inside the cells of the heatmap\n",
        "# 'fmt='d'' ensures the values are displayed as integers\n",
        "# 'cmap='Blues'' sets the color scheme to shades of blue\n",
        "# 'xticklabels' and 'yticklabels' are used to label the axes as 'No Failure' and 'Failure'\n",
        "plt.figure(figsize=(4, 4))\n",
        "sns.heatmap(conf_matrix, annot=True, fmt='d', cmap='Blues', xticklabels=['No Failure', 'Failure'], yticklabels=['No Failure', 'Failure'])\n",
        "\n",
        "# Adding title and axis labels to the plot\n",
        "plt.title('Confusion Matrix')\n",
        "plt.ylabel('Actual')  # Actual class labels\n",
        "plt.xlabel('Predicted')  # Predicted class labels\n",
        "plt.show()  # Display the heatmap"
      ],
      "metadata": {
        "colab": {
          "base_uri": "https://localhost:8080/",
          "height": 410
        },
        "id": "lqlEHsoOpPUc",
        "outputId": "d04d35aa-63d1-49b4-ebda-7ec1985bd86c"
      },
      "execution_count": null,
      "outputs": [
        {
          "output_type": "display_data",
          "data": {
            "text/plain": [
              "<Figure size 400x400 with 2 Axes>"
            ],
            "image/png": "[encoded data removed]"
          },
          "metadata": {}
        }
      ]
    },
    {
      "cell_type": "markdown",
      "source": [
        "##### **ROC Curve**"
      ],
      "metadata": {
        "id": "qtAOHXfGpfe_"
      }
    },
    {
      "cell_type": "code",
      "source": [
        "# Calculating the Receiver Operating Characteristic (ROC) curve and the Area Under the Curve (AUC) for the model's performance\n",
        "# 'roc_curve()' computes the False Positive Rate (FPR) and True Positive Rate (TPR) at various threshold values\n",
        "# 'best_rf_model.predict_proba(X_test)[:, 1]' gives the predicted probabilities for the positive class (Failure)\n",
        "# The probabilities are used to compute the ROC curve\n",
        "# 'fpr' is the False Positive Rate, and 'tpr' is the True Positive Rate, both of which are used to plot the ROC curve\n",
        "fpr, tpr, thresholds = roc_curve(y_test, best_rf_model.predict_proba(X_test)[:, 1])\n",
        "\n",
        "# Calculating the AUC (Area Under the Curve) which summarizes the overall performance of the classifier\n",
        "# AUC is a measure of the ability of the model to discriminate between positive and negative classes\n",
        "roc_auc = auc(fpr, tpr)\n",
        "\n",
        "# Plotting the ROC curve\n",
        "# The 'plt.plot()' function is used to plot the ROC curve with FPR on the x-axis and TPR on the y-axis\n",
        "# The label includes the AUC value, which provides a measure of the model's performance (closer to 1.0 is better)\n",
        "plt.figure(figsize=(8, 4))\n",
        "plt.plot(fpr, tpr, color='b', label='ROC curve (area = %0.2f)' % roc_auc)\n",
        "\n",
        "# Plotting a diagonal line to represent a random classifier (where the FPR = TPR)\n",
        "plt.plot([0, 1], [0, 1], color='gray', linestyle='--')\n",
        "\n",
        "# Adding labels and title to the plot\n",
        "plt.xlabel('False Positive Rate')  # FPR on the x-axis\n",
        "plt.ylabel('True Positive Rate')   # TPR on the y-axis\n",
        "plt.title('Receiver Operating Characteristic (ROC)')  # Title of the plot\n",
        "plt.legend(loc='lower right')  # Positioning the legend in the lower-right corner\n",
        "plt.show()  # Display the plot"
      ],
      "metadata": {
        "colab": {
          "base_uri": "https://localhost:8080/",
          "height": 410
        },
        "id": "Yelyk2ekphvT",
        "outputId": "c98ad09a-93e1-4d2f-f444-2f810c72026b"
      },
      "execution_count": null,
      "outputs": [
        {
          "output_type": "display_data",
          "data": {
            "text/plain": [
              "<Figure size 800x400 with 1 Axes>"
            ],
            "image/png": "[encoded data removed]"
          },
          "metadata": {}
        }
      ]
    },
    {
      "cell_type": "code",
      "source": [
        "print(\"Accuracy: \", accuracy_score(y_test, y_pred))\n",
        "print(\"Precision: \", precision_score(y_test, y_pred))\n",
        "print(\"Recall: \", recall_score(y_test, y_pred))\n",
        "print(\"F1-Score: \", f1_score(y_test, y_pred))\n",
        "print(\"Classification Report: \")\n",
        "print(classification_report(y_test, y_pred))"
      ],
      "metadata": {
        "colab": {
          "base_uri": "https://localhost:8080/"
        },
        "id": "IF8eqTmVDi0e",
        "outputId": "5c19762d-8e22-4223-efc5-5342d880d518"
      },
      "execution_count": null,
      "outputs": [
        {
          "output_type": "stream",
          "name": "stdout",
          "text": [
            "Accuracy:  0.7204819277108434\n",
            "Precision:  0.6936170212765957\n",
            "Recall:  0.7874396135265701\n",
            "F1-Score:  0.7375565610859729\n",
            "Classification Report: \n",
            "              precision    recall  f1-score   support\n",
            "\n",
            "           0       0.76      0.65      0.70       208\n",
            "           1       0.69      0.79      0.74       207\n",
            "\n",
            "    accuracy                           0.72       415\n",
            "   macro avg       0.72      0.72      0.72       415\n",
            "weighted avg       0.72      0.72      0.72       415\n",
            "\n"
          ]
        }
      ]
    },
    {
      "cell_type": "markdown",
      "source": [
        "### **Conclusion**\n",
        "\n",
        "The machine failure prediction model demonstrated reliable performance with an overall accuracy of 72% and an F1-score of 0.74, indicating a good balance between precision and recall. Most notably, the model achieved a recall of 78.7%, which is crucial in applications where detecting potential failures early is more important than avoiding false alarms. This high recall ensures that the majority of actual failures are successfully identified, minimizing the risk of unexpected breakdowns and reducing unplanned downtime.\n",
        "\n",
        "While the precision of 69% indicates a few false alarms, this is a worthwhile trade-off when the priority is to avoid missing actual failures. In high-risk environments, early detection can prevent costly downtime and equipment damage. The model proves to be a reliable tool for identifying failures in advance, making it highly valuable for predictive maintenance. Its performance shows strong potential for real-world implementation, offering a data-driven solution to enhance system reliability and ensure smoother operations."
      ],
      "metadata": {
        "id": "PUv7bxriDRcJ"
      }
    },
    {
      "cell_type": "markdown",
      "source": [
        "### **Business Impact**"
      ],
      "metadata": {
        "id": "uyB-kF7OM0mB"
      }
    },
    {
      "cell_type": "markdown",
      "source": [
        "Implementing a predictive maintenance system using machine learning can significantly enhance operational efficiency and reduce costs in industrial settings. The key business benefits of this model include:  \n",
        "\n",
        "- **Reduced Downtime:** By predicting machine failures before they occur, companies can schedule timely maintenance, avoiding unexpected breakdowns and costly disruptions.  \n",
        "- **Cost Savings:** Preventative maintenance reduces the need for emergency repairs, minimizing labor and replacement costs while extending equipment lifespan.  \n",
        "- **Improved Productivity:** Ensuring machines operate smoothly without sudden failures leads to better workflow continuity and higher overall productivity.  \n",
        "- **Resource Optimization:** By using sensor data to identify machines at risk, maintenance efforts can be focused only on necessary interventions, optimizing resource allocation.  \n",
        "- **Data-Driven Decision Making:** The model provides actionable insights, allowing businesses to plan maintenance schedules efficiently and reduce unnecessary downtime.  \n",
        "\n",
        "Overall, integrating machine learning for predictive maintenance enhances operational reliability, reduces maintenance expenses, and improves business profitability."
      ],
      "metadata": {
        "id": "9XQsagbPM6xw"
      }
    },
    {
      "cell_type": "markdown",
      "source": [
        "### **Additional Models**\n",
        "\n",
        "- I have also tried different algorithms other than Random Forest, like XGB, MLP, SVM with PCA and also Stacking classifier including 3 classifier algorithms Random forest, XGB and LGBM.\n",
        "- When compared Random forest alone performs better with accuracy of 72%"
      ],
      "metadata": {
        "id": "kG30f2Q-rfEU"
      }
    },
    {
      "cell_type": "code",
      "source": [
        "from xgboost import XGBClassifier\n",
        "from sklearn.model_selection import GridSearchCV\n",
        "from sklearn.metrics import accuracy_score, classification_report\n",
        "\n",
        "xgb_model = XGBClassifier(random_state=42)\n",
        "\n",
        "param_grid_xgb = {\n",
        "    'n_estimators': [100, 200, 300],\n",
        "    'max_depth': [3, 6, 10],\n",
        "    'learning_rate': [0.01, 0.1, 0.2],\n",
        "    'subsample': [0.8, 1],\n",
        "    'colsample_bytree': [0.8, 1]\n",
        "}\n",
        "\n",
        "grid_search_xgb = GridSearchCV(estimator=xgb_model, param_grid=param_grid_xgb, cv=3, n_jobs=-1, verbose=2)\n",
        "grid_search_xgb.fit(X_train, y_train)\n",
        "\n",
        "best_xgb_model = grid_search_xgb.best_estimator_\n",
        "print(\"Best hyperparameters for XGBoost:\", grid_search_xgb.best_params_)\n",
        "\n",
        "y_pred_xgb = best_xgb_model.predict(X_test)\n",
        "\n",
        "xgb_accuracy = accuracy_score(y_test, y_pred_xgb)\n",
        "classification_rep_xgb = classification_report(y_test, y_pred_xgb)\n",
        "\n",
        "print(\"XGBoost Accuracy:\", xgb_accuracy)\n",
        "print(\"Classification Report:\\n\", classification_rep_xgb)"
      ],
      "metadata": {
        "colab": {
          "base_uri": "https://localhost:8080/"
        },
        "id": "V8mWSb3CDHfR",
        "outputId": "13c47e76-ef6d-4580-9317-e4cfcbd1fce5"
      },
      "execution_count": null,
      "outputs": [
        {
          "output_type": "stream",
          "name": "stdout",
          "text": [
            "Fitting 3 folds for each of 108 candidates, totalling 324 fits\n"
          ]
        },
        {
          "output_type": "stream",
          "name": "stderr",
          "text": [
            "/usr/local/lib/python3.11/dist-packages/joblib/externals/loky/process_executor.py:752: UserWarning: A worker stopped while some jobs were given to the executor. This can be caused by a too short worker timeout or by a memory leak.\n",
            "  warnings.warn(\n"
          ]
        },
        {
          "output_type": "stream",
          "name": "stdout",
          "text": [
            "Best hyperparameters for XGBoost: {'colsample_bytree': 0.8, 'learning_rate': 0.2, 'max_depth': 10, 'n_estimators': 100, 'subsample': 1}\n",
            "XGBoost Accuracy: 0.7060240963855422\n",
            "Classification Report:\n",
            "               precision    recall  f1-score   support\n",
            "\n",
            "           0       0.74      0.63      0.68       208\n",
            "           1       0.68      0.78      0.73       207\n",
            "\n",
            "    accuracy                           0.71       415\n",
            "   macro avg       0.71      0.71      0.70       415\n",
            "weighted avg       0.71      0.71      0.70       415\n",
            "\n"
          ]
        }
      ]
    },
    {
      "cell_type": "code",
      "source": [
        "from sklearn.neural_network import MLPClassifier\n",
        "\n",
        "mlp_model = MLPClassifier(hidden_layer_sizes=(256, 128, 64),\n",
        "                          activation='relu',\n",
        "                          solver='adam',\n",
        "                          learning_rate_init=0.001,\n",
        "                          max_iter=1000,\n",
        "                          random_state=42)\n",
        "\n",
        "mlp_model.fit(X_train, y_train)\n",
        "y_pred_mlp = mlp_model.predict(X_test)\n",
        "mlp_accuracy = accuracy_score(y_test, y_pred_mlp)\n",
        "classification_rep_mlp = classification_report(y_test, y_pred_mlp)\n",
        "print(\"Improved MLP Accuracy:\", mlp_accuracy)\n",
        "print(\"Classification Report:\\n\", classification_rep_mlp)\n"
      ],
      "metadata": {
        "colab": {
          "base_uri": "https://localhost:8080/"
        },
        "id": "LHnoV6LsETX8",
        "outputId": "57d45ecb-b3c0-4eac-fd34-245e4f55fd87"
      },
      "execution_count": null,
      "outputs": [
        {
          "output_type": "stream",
          "name": "stdout",
          "text": [
            "Improved MLP Accuracy: 0.6024096385542169\n",
            "Classification Report:\n",
            "               precision    recall  f1-score   support\n",
            "\n",
            "           0       0.58      0.77      0.66       208\n",
            "           1       0.65      0.43      0.52       207\n",
            "\n",
            "    accuracy                           0.60       415\n",
            "   macro avg       0.61      0.60      0.59       415\n",
            "weighted avg       0.61      0.60      0.59       415\n",
            "\n"
          ]
        }
      ]
    },
    {
      "cell_type": "code",
      "source": [
        "from sklearn.decomposition import PCA\n",
        "\n",
        "pca = PCA(n_components=2)\n",
        "X_train_pca = pca.fit_transform(X_train)\n",
        "X_test_pca = pca.transform(X_test)\n",
        "\n",
        "from sklearn.svm import SVC\n",
        "\n",
        "svm_model = SVC(kernel='rbf', C=1, gamma='scale')\n",
        "svm_model.fit(X_train, y_train)\n",
        "y_pred_svm = svm_model.predict(X_test)\n",
        "classification_rep_svm = classification_report(y_test, y_pred_svm)\n",
        "svm_accuracy = accuracy_score(y_test, y_pred_svm)\n",
        "print(\"SVM Accuracy:\", svm_accuracy)\n",
        "print(\"Classification Report:\\n\", classification_rep_svm)"
      ],
      "metadata": {
        "colab": {
          "base_uri": "https://localhost:8080/"
        },
        "id": "NL-k0s_jGIMf",
        "outputId": "7d279a35-cfd1-4a49-cb76-45f2ed65a97d"
      },
      "execution_count": null,
      "outputs": [
        {
          "output_type": "stream",
          "name": "stdout",
          "text": [
            "SVM Accuracy: 0.5927710843373494\n",
            "Classification Report:\n",
            "               precision    recall  f1-score   support\n",
            "\n",
            "           0       0.65      0.40      0.50       208\n",
            "           1       0.57      0.78      0.66       207\n",
            "\n",
            "    accuracy                           0.59       415\n",
            "   macro avg       0.61      0.59      0.58       415\n",
            "weighted avg       0.61      0.59      0.58       415\n",
            "\n"
          ]
        }
      ]
    },
    {
      "cell_type": "code",
      "source": [
        "from sklearn.ensemble import StackingClassifier\n",
        "from sklearn.linear_model import LogisticRegression\n",
        "from xgboost import XGBClassifier\n",
        "import lightgbm as lgb\n",
        "\n",
        "rf_model = RandomForestClassifier(random_state=42)  # Define it or use your best model after tuning\n",
        "xgb_model = XGBClassifier(random_state=42)  # Define XGB model\n",
        "lgbm_model = lgb.LGBMClassifier(random_state=42)  # Define LightGBM model\n",
        "\n",
        "rf_model.fit(X_train, y_train)\n",
        "xgb_model.fit(X_train, y_train)\n",
        "lgbm_model.fit(X_train, y_train)\n",
        "\n",
        "base_learners = [\n",
        "    ('rf', rf_model),\n",
        "    ('xgb', xgb_model),\n",
        "    ('lgbm', lgbm_model),\n",
        "]\n",
        "stack_model = StackingClassifier(estimators=base_learners, final_estimator=LogisticRegression())\n",
        "stack_model.fit(X_train, y_train)\n",
        "y_pred_stack = stack_model.predict(X_test)\n",
        "stack_accuracy = accuracy_score(y_test, y_pred_stack)\n",
        "classification_rep_stack = classification_report(y_test, y_pred_stack)\n",
        "print(\"Stacking Classifier Accuracy:\", stack_accuracy)\n",
        "print(\"Classification Report:\\n\", classification_rep_stack)"
      ],
      "metadata": {
        "colab": {
          "base_uri": "https://localhost:8080/"
        },
        "id": "8TR-z_Q4IupM",
        "outputId": "0799b4ef-a99f-4004-ef81-b890279b59c0"
      },
      "execution_count": null,
      "outputs": [
        {
          "output_type": "stream",
          "name": "stdout",
          "text": [
            "[LightGBM] [Info] Number of positive: 486, number of negative: 480\n",
            "[LightGBM] [Info] Auto-choosing row-wise multi-threading, the overhead of testing was 0.001406 seconds.\n",
            "You can set `force_row_wise=true` to remove the overhead.\n",
            "And if memory is not enough, you can set `force_col_wise=true`.\n",
            "[LightGBM] [Info] Total Bins 1023\n",
            "[LightGBM] [Info] Number of data points in the train set: 966, number of used features: 5\n",
            "[LightGBM] [Info] [binary:BoostFromScore]: pavg=0.503106 -> initscore=0.012423\n",
            "[LightGBM] [Info] Start training from score 0.012423\n",
            "[LightGBM] [Info] Number of positive: 486, number of negative: 480\n",
            "[LightGBM] [Info] Auto-choosing col-wise multi-threading, the overhead of testing was 0.000112 seconds.\n",
            "You can set `force_col_wise=true` to remove the overhead.\n",
            "[LightGBM] [Info] Total Bins 1023\n",
            "[LightGBM] [Info] Number of data points in the train set: 966, number of used features: 5\n",
            "[LightGBM] [Info] [binary:BoostFromScore]: pavg=0.503106 -> initscore=0.012423\n",
            "[LightGBM] [Info] Start training from score 0.012423\n",
            "[LightGBM] [Info] Number of positive: 388, number of negative: 384\n",
            "[LightGBM] [Info] Auto-choosing col-wise multi-threading, the overhead of testing was 0.000087 seconds.\n",
            "You can set `force_col_wise=true` to remove the overhead.\n",
            "[LightGBM] [Info] Total Bins 1023\n",
            "[LightGBM] [Info] Number of data points in the train set: 772, number of used features: 5\n",
            "[LightGBM] [Info] [binary:BoostFromScore]: pavg=0.502591 -> initscore=0.010363\n",
            "[LightGBM] [Info] Start training from score 0.010363\n",
            "[LightGBM] [Warning] No further splits with positive gain, best gain: -inf\n",
            "[LightGBM] [Warning] No further splits with positive gain, best gain: -inf\n",
            "[LightGBM] [Warning] No further splits with positive gain, best gain: -inf\n",
            "[LightGBM] [Warning] No further splits with positive gain, best gain: -inf\n",
            "[LightGBM] [Warning] No further splits with positive gain, best gain: -inf\n",
            "[LightGBM] [Warning] No further splits with positive gain, best gain: -inf\n",
            "[LightGBM] [Warning] No further splits with positive gain, best gain: -inf\n",
            "[LightGBM] [Warning] No further splits with positive gain, best gain: -inf\n",
            "[LightGBM] [Warning] No further splits with positive gain, best gain: -inf\n",
            "[LightGBM] [Warning] No further splits with positive gain, best gain: -inf\n",
            "[LightGBM] [Warning] No further splits with positive gain, best gain: -inf\n",
            "[LightGBM] [Warning] No further splits with positive gain, best gain: -inf\n",
            "[LightGBM] [Warning] No further splits with positive gain, best gain: -inf\n",
            "[LightGBM] [Warning] No further splits with positive gain, best gain: -inf\n",
            "[LightGBM] [Warning] No further splits with positive gain, best gain: -inf\n",
            "[LightGBM] [Warning] No further splits with positive gain, best gain: -inf\n",
            "[LightGBM] [Warning] No further splits with positive gain, best gain: -inf\n",
            "[LightGBM] [Warning] No further splits with positive gain, best gain: -inf\n",
            "[LightGBM] [Warning] No further splits with positive gain, best gain: -inf\n",
            "[LightGBM] [Warning] No further splits with positive gain, best gain: -inf\n",
            "[LightGBM] [Warning] No further splits with positive gain, best gain: -inf\n",
            "[LightGBM] [Warning] No further splits with positive gain, best gain: -inf\n",
            "[LightGBM] [Warning] No further splits with positive gain, best gain: -inf\n",
            "[LightGBM] [Warning] No further splits with positive gain, best gain: -inf\n",
            "[LightGBM] [Warning] No further splits with positive gain, best gain: -inf\n",
            "[LightGBM] [Warning] No further splits with positive gain, best gain: -inf\n",
            "[LightGBM] [Warning] No further splits with positive gain, best gain: -inf\n",
            "[LightGBM] [Warning] No further splits with positive gain, best gain: -inf\n",
            "[LightGBM] [Warning] No further splits with positive gain, best gain: -inf\n",
            "[LightGBM] [Warning] No further splits with positive gain, best gain: -inf\n",
            "[LightGBM] [Warning] No further splits with positive gain, best gain: -inf\n",
            "[LightGBM] [Warning] No further splits with positive gain, best gain: -inf\n",
            "[LightGBM] [Warning] No further splits with positive gain, best gain: -inf\n",
            "[LightGBM] [Warning] No further splits with positive gain, best gain: -inf\n",
            "[LightGBM] [Warning] No further splits with positive gain, best gain: -inf\n",
            "[LightGBM] [Info] Number of positive: 389, number of negative: 384\n",
            "[LightGBM] [Info] Auto-choosing col-wise multi-threading, the overhead of testing was 0.000100 seconds.\n",
            "You can set `force_col_wise=true` to remove the overhead.\n",
            "[LightGBM] [Info] Total Bins 1023\n",
            "[LightGBM] [Info] Number of data points in the train set: 773, number of used features: 5\n",
            "[LightGBM] [Info] [binary:BoostFromScore]: pavg=0.503234 -> initscore=0.012937\n",
            "[LightGBM] [Info] Start training from score 0.012937\n",
            "[LightGBM] [Warning] No further splits with positive gain, best gain: -inf\n",
            "[LightGBM] [Warning] No further splits with positive gain, best gain: -inf\n",
            "[LightGBM] [Warning] No further splits with positive gain, best gain: -inf\n",
            "[LightGBM] [Warning] No further splits with positive gain, best gain: -inf\n",
            "[LightGBM] [Warning] No further splits with positive gain, best gain: -inf\n",
            "[LightGBM] [Warning] No further splits with positive gain, best gain: -inf\n",
            "[LightGBM] [Warning] No further splits with positive gain, best gain: -inf\n",
            "[LightGBM] [Warning] No further splits with positive gain, best gain: -inf\n",
            "[LightGBM] [Warning] No further splits with positive gain, best gain: -inf\n",
            "[LightGBM] [Warning] No further splits with positive gain, best gain: -inf\n",
            "[LightGBM] [Warning] No further splits with positive gain, best gain: -inf\n",
            "[LightGBM] [Warning] No further splits with positive gain, best gain: -inf\n",
            "[LightGBM] [Warning] No further splits with positive gain, best gain: -inf\n",
            "[LightGBM] [Warning] No further splits with positive gain, best gain: -inf\n",
            "[LightGBM] [Warning] No further splits with positive gain, best gain: -inf\n",
            "[LightGBM] [Warning] No further splits with positive gain, best gain: -inf\n",
            "[LightGBM] [Warning] No further splits with positive gain, best gain: -inf\n",
            "[LightGBM] [Warning] No further splits with positive gain, best gain: -inf\n",
            "[LightGBM] [Warning] No further splits with positive gain, best gain: -inf\n",
            "[LightGBM] [Warning] No further splits with positive gain, best gain: -inf\n",
            "[LightGBM] [Warning] No further splits with positive gain, best gain: -inf\n",
            "[LightGBM] [Warning] No further splits with positive gain, best gain: -inf\n",
            "[LightGBM] [Warning] No further splits with positive gain, best gain: -inf\n",
            "[LightGBM] [Warning] No further splits with positive gain, best gain: -inf\n",
            "[LightGBM] [Warning] No further splits with positive gain, best gain: -inf\n",
            "[LightGBM] [Warning] No further splits with positive gain, best gain: -inf\n",
            "[LightGBM] [Warning] No further splits with positive gain, best gain: -inf\n",
            "[LightGBM] [Warning] No further splits with positive gain, best gain: -inf\n",
            "[LightGBM] [Warning] No further splits with positive gain, best gain: -inf\n",
            "[LightGBM] [Warning] No further splits with positive gain, best gain: -inf\n",
            "[LightGBM] [Warning] No further splits with positive gain, best gain: -inf\n",
            "[LightGBM] [Warning] No further splits with positive gain, best gain: -inf\n",
            "[LightGBM] [Warning] No further splits with positive gain, best gain: -inf\n",
            "[LightGBM] [Warning] No further splits with positive gain, best gain: -inf\n",
            "[LightGBM] [Warning] No further splits with positive gain, best gain: -inf\n",
            "[LightGBM] [Warning] No further splits with positive gain, best gain: -inf\n",
            "[LightGBM] [Warning] No further splits with positive gain, best gain: -inf\n",
            "[LightGBM] [Warning] No further splits with positive gain, best gain: -inf\n",
            "[LightGBM] [Warning] No further splits with positive gain, best gain: -inf\n",
            "[LightGBM] [Warning] No further splits with positive gain, best gain: -inf\n",
            "[LightGBM] [Warning] No further splits with positive gain, best gain: -inf\n",
            "[LightGBM] [Warning] No further splits with positive gain, best gain: -inf\n",
            "[LightGBM] [Warning] No further splits with positive gain, best gain: -inf\n",
            "[LightGBM] [Warning] No further splits with positive gain, best gain: -inf\n",
            "[LightGBM] [Warning] No further splits with positive gain, best gain: -inf\n",
            "[LightGBM] [Warning] No further splits with positive gain, best gain: -inf\n",
            "[LightGBM] [Warning] No further splits with positive gain, best gain: -inf\n",
            "[LightGBM] [Info] Number of positive: 389, number of negative: 384\n",
            "[LightGBM] [Info] Auto-choosing col-wise multi-threading, the overhead of testing was 0.000071 seconds.\n",
            "You can set `force_col_wise=true` to remove the overhead.\n",
            "[LightGBM] [Info] Total Bins 1023\n",
            "[LightGBM] [Info] Number of data points in the train set: 773, number of used features: 5\n",
            "[LightGBM] [Info] [binary:BoostFromScore]: pavg=0.503234 -> initscore=0.012937\n",
            "[LightGBM] [Info] Start training from score 0.012937\n",
            "[LightGBM] [Warning] No further splits with positive gain, best gain: -inf\n",
            "[LightGBM] [Warning] No further splits with positive gain, best gain: -inf\n",
            "[LightGBM] [Warning] No further splits with positive gain, best gain: -inf\n",
            "[LightGBM] [Warning] No further splits with positive gain, best gain: -inf\n",
            "[LightGBM] [Warning] No further splits with positive gain, best gain: -inf\n",
            "[LightGBM] [Warning] No further splits with positive gain, best gain: -inf\n",
            "[LightGBM] [Warning] No further splits with positive gain, best gain: -inf\n",
            "[LightGBM] [Warning] No further splits with positive gain, best gain: -inf\n",
            "[LightGBM] [Warning] No further splits with positive gain, best gain: -inf\n",
            "[LightGBM] [Warning] No further splits with positive gain, best gain: -inf\n",
            "[LightGBM] [Warning] No further splits with positive gain, best gain: -inf\n",
            "[LightGBM] [Warning] No further splits with positive gain, best gain: -inf\n",
            "[LightGBM] [Warning] No further splits with positive gain, best gain: -inf\n",
            "[LightGBM] [Warning] No further splits with positive gain, best gain: -inf\n",
            "[LightGBM] [Warning] No further splits with positive gain, best gain: -inf\n",
            "[LightGBM] [Warning] No further splits with positive gain, best gain: -inf\n",
            "[LightGBM] [Warning] No further splits with positive gain, best gain: -inf\n",
            "[LightGBM] [Warning] No further splits with positive gain, best gain: -inf\n",
            "[LightGBM] [Warning] No further splits with positive gain, best gain: -inf\n",
            "[LightGBM] [Warning] No further splits with positive gain, best gain: -inf\n",
            "[LightGBM] [Warning] No further splits with positive gain, best gain: -inf\n",
            "[LightGBM] [Warning] No further splits with positive gain, best gain: -inf\n",
            "[LightGBM] [Warning] No further splits with positive gain, best gain: -inf\n",
            "[LightGBM] [Warning] No further splits with positive gain, best gain: -inf\n",
            "[LightGBM] [Warning] No further splits with positive gain, best gain: -inf\n",
            "[LightGBM] [Warning] No further splits with positive gain, best gain: -inf\n",
            "[LightGBM] [Warning] No further splits with positive gain, best gain: -inf\n",
            "[LightGBM] [Warning] No further splits with positive gain, best gain: -inf\n",
            "[LightGBM] [Warning] No further splits with positive gain, best gain: -inf\n",
            "[LightGBM] [Warning] No further splits with positive gain, best gain: -inf\n",
            "[LightGBM] [Warning] No further splits with positive gain, best gain: -inf\n",
            "[LightGBM] [Warning] No further splits with positive gain, best gain: -inf\n",
            "[LightGBM] [Warning] No further splits with positive gain, best gain: -inf\n",
            "[LightGBM] [Warning] No further splits with positive gain, best gain: -inf\n",
            "[LightGBM] [Warning] No further splits with positive gain, best gain: -inf\n",
            "[LightGBM] [Warning] No further splits with positive gain, best gain: -inf\n",
            "[LightGBM] [Warning] No further splits with positive gain, best gain: -inf\n",
            "[LightGBM] [Warning] No further splits with positive gain, best gain: -inf\n",
            "[LightGBM] [Warning] No further splits with positive gain, best gain: -inf\n",
            "[LightGBM] [Warning] No further splits with positive gain, best gain: -inf\n",
            "[LightGBM] [Warning] No further splits with positive gain, best gain: -inf\n",
            "[LightGBM] [Warning] No further splits with positive gain, best gain: -inf\n",
            "[LightGBM] [Warning] No further splits with positive gain, best gain: -inf\n",
            "[LightGBM] [Warning] No further splits with positive gain, best gain: -inf\n",
            "[LightGBM] [Warning] No further splits with positive gain, best gain: -inf\n",
            "[LightGBM] [Warning] No further splits with positive gain, best gain: -inf\n",
            "[LightGBM] [Warning] No further splits with positive gain, best gain: -inf\n",
            "[LightGBM] [Warning] No further splits with positive gain, best gain: -inf\n",
            "[LightGBM] [Warning] No further splits with positive gain, best gain: -inf\n",
            "[LightGBM] [Warning] No further splits with positive gain, best gain: -inf\n",
            "[LightGBM] [Warning] No further splits with positive gain, best gain: -inf\n",
            "[LightGBM] [Warning] No further splits with positive gain, best gain: -inf\n",
            "[LightGBM] [Warning] No further splits with positive gain, best gain: -inf\n",
            "[LightGBM] [Warning] No further splits with positive gain, best gain: -inf\n",
            "[LightGBM] [Warning] No further splits with positive gain, best gain: -inf\n",
            "[LightGBM] [Warning] No further splits with positive gain, best gain: -inf\n",
            "[LightGBM] [Warning] No further splits with positive gain, best gain: -inf\n",
            "[LightGBM] [Warning] No further splits with positive gain, best gain: -inf\n",
            "[LightGBM] [Warning] No further splits with positive gain, best gain: -inf\n",
            "[LightGBM] [Info] Number of positive: 389, number of negative: 384\n",
            "[LightGBM] [Info] Auto-choosing col-wise multi-threading, the overhead of testing was 0.000103 seconds.\n",
            "You can set `force_col_wise=true` to remove the overhead.\n",
            "[LightGBM] [Info] Total Bins 1023\n",
            "[LightGBM] [Info] Number of data points in the train set: 773, number of used features: 5\n",
            "[LightGBM] [Info] [binary:BoostFromScore]: pavg=0.503234 -> initscore=0.012937\n",
            "[LightGBM] [Info] Start training from score 0.012937\n",
            "[LightGBM] [Warning] No further splits with positive gain, best gain: -inf\n",
            "[LightGBM] [Warning] No further splits with positive gain, best gain: -inf\n",
            "[LightGBM] [Warning] No further splits with positive gain, best gain: -inf\n",
            "[LightGBM] [Warning] No further splits with positive gain, best gain: -inf\n",
            "[LightGBM] [Warning] No further splits with positive gain, best gain: -inf\n",
            "[LightGBM] [Warning] No further splits with positive gain, best gain: -inf\n",
            "[LightGBM] [Warning] No further splits with positive gain, best gain: -inf\n",
            "[LightGBM] [Warning] No further splits with positive gain, best gain: -inf\n",
            "[LightGBM] [Warning] No further splits with positive gain, best gain: -inf\n",
            "[LightGBM] [Warning] No further splits with positive gain, best gain: -inf\n",
            "[LightGBM] [Warning] No further splits with positive gain, best gain: -inf\n",
            "[LightGBM] [Warning] No further splits with positive gain, best gain: -inf\n",
            "[LightGBM] [Warning] No further splits with positive gain, best gain: -inf\n",
            "[LightGBM] [Warning] No further splits with positive gain, best gain: -inf\n",
            "[LightGBM] [Warning] No further splits with positive gain, best gain: -inf\n",
            "[LightGBM] [Warning] No further splits with positive gain, best gain: -inf\n",
            "[LightGBM] [Warning] No further splits with positive gain, best gain: -inf\n",
            "[LightGBM] [Warning] No further splits with positive gain, best gain: -inf\n",
            "[LightGBM] [Warning] No further splits with positive gain, best gain: -inf\n",
            "[LightGBM] [Warning] No further splits with positive gain, best gain: -inf\n",
            "[LightGBM] [Warning] No further splits with positive gain, best gain: -inf\n",
            "[LightGBM] [Warning] No further splits with positive gain, best gain: -inf\n",
            "[LightGBM] [Warning] No further splits with positive gain, best gain: -inf\n",
            "[LightGBM] [Warning] No further splits with positive gain, best gain: -inf\n",
            "[LightGBM] [Warning] No further splits with positive gain, best gain: -inf\n",
            "[LightGBM] [Warning] No further splits with positive gain, best gain: -inf\n",
            "[LightGBM] [Warning] No further splits with positive gain, best gain: -inf\n",
            "[LightGBM] [Warning] No further splits with positive gain, best gain: -inf\n",
            "[LightGBM] [Warning] No further splits with positive gain, best gain: -inf\n",
            "[LightGBM] [Warning] No further splits with positive gain, best gain: -inf\n",
            "[LightGBM] [Warning] No further splits with positive gain, best gain: -inf\n",
            "[LightGBM] [Warning] No further splits with positive gain, best gain: -inf\n",
            "[LightGBM] [Warning] No further splits with positive gain, best gain: -inf\n",
            "[LightGBM] [Warning] No further splits with positive gain, best gain: -inf\n",
            "[LightGBM] [Warning] No further splits with positive gain, best gain: -inf\n",
            "[LightGBM] [Warning] No further splits with positive gain, best gain: -inf\n",
            "[LightGBM] [Warning] No further splits with positive gain, best gain: -inf\n",
            "[LightGBM] [Warning] No further splits with positive gain, best gain: -inf\n",
            "[LightGBM] [Warning] No further splits with positive gain, best gain: -inf\n",
            "[LightGBM] [Warning] No further splits with positive gain, best gain: -inf\n",
            "[LightGBM] [Warning] No further splits with positive gain, best gain: -inf\n",
            "[LightGBM] [Warning] No further splits with positive gain, best gain: -inf\n",
            "[LightGBM] [Warning] No further splits with positive gain, best gain: -inf\n",
            "[LightGBM] [Warning] No further splits with positive gain, best gain: -inf\n",
            "[LightGBM] [Warning] No further splits with positive gain, best gain: -inf\n",
            "[LightGBM] [Warning] No further splits with positive gain, best gain: -inf\n",
            "[LightGBM] [Warning] No further splits with positive gain, best gain: -inf\n",
            "[LightGBM] [Warning] No further splits with positive gain, best gain: -inf\n",
            "[LightGBM] [Warning] No further splits with positive gain, best gain: -inf\n",
            "[LightGBM] [Warning] No further splits with positive gain, best gain: -inf\n",
            "[LightGBM] [Warning] No further splits with positive gain, best gain: -inf\n",
            "[LightGBM] [Warning] No further splits with positive gain, best gain: -inf\n",
            "[LightGBM] [Warning] No further splits with positive gain, best gain: -inf\n",
            "[LightGBM] [Info] Number of positive: 389, number of negative: 384\n",
            "[LightGBM] [Info] Auto-choosing col-wise multi-threading, the overhead of testing was 0.000062 seconds.\n",
            "You can set `force_col_wise=true` to remove the overhead.\n",
            "[LightGBM] [Info] Total Bins 1023\n",
            "[LightGBM] [Info] Number of data points in the train set: 773, number of used features: 5\n",
            "[LightGBM] [Info] [binary:BoostFromScore]: pavg=0.503234 -> initscore=0.012937\n",
            "[LightGBM] [Info] Start training from score 0.012937\n",
            "[LightGBM] [Warning] No further splits with positive gain, best gain: -inf\n",
            "[LightGBM] [Warning] No further splits with positive gain, best gain: -inf\n",
            "[LightGBM] [Warning] No further splits with positive gain, best gain: -inf\n",
            "[LightGBM] [Warning] No further splits with positive gain, best gain: -inf\n",
            "[LightGBM] [Warning] No further splits with positive gain, best gain: -inf\n",
            "[LightGBM] [Warning] No further splits with positive gain, best gain: -inf\n",
            "[LightGBM] [Warning] No further splits with positive gain, best gain: -inf\n",
            "[LightGBM] [Warning] No further splits with positive gain, best gain: -inf\n",
            "[LightGBM] [Warning] No further splits with positive gain, best gain: -inf\n",
            "[LightGBM] [Warning] No further splits with positive gain, best gain: -inf\n",
            "[LightGBM] [Warning] No further splits with positive gain, best gain: -inf\n",
            "[LightGBM] [Warning] No further splits with positive gain, best gain: -inf\n",
            "[LightGBM] [Warning] No further splits with positive gain, best gain: -inf\n",
            "[LightGBM] [Warning] No further splits with positive gain, best gain: -inf\n",
            "[LightGBM] [Warning] No further splits with positive gain, best gain: -inf\n",
            "[LightGBM] [Warning] No further splits with positive gain, best gain: -inf\n",
            "[LightGBM] [Warning] No further splits with positive gain, best gain: -inf\n",
            "[LightGBM] [Warning] No further splits with positive gain, best gain: -inf\n",
            "[LightGBM] [Warning] No further splits with positive gain, best gain: -inf\n",
            "[LightGBM] [Warning] No further splits with positive gain, best gain: -inf\n",
            "[LightGBM] [Warning] No further splits with positive gain, best gain: -inf\n",
            "[LightGBM] [Warning] No further splits with positive gain, best gain: -inf\n",
            "[LightGBM] [Warning] No further splits with positive gain, best gain: -inf\n",
            "[LightGBM] [Warning] No further splits with positive gain, best gain: -inf\n",
            "[LightGBM] [Warning] No further splits with positive gain, best gain: -inf\n",
            "[LightGBM] [Warning] No further splits with positive gain, best gain: -inf\n",
            "[LightGBM] [Warning] No further splits with positive gain, best gain: -inf\n",
            "[LightGBM] [Warning] No further splits with positive gain, best gain: -inf\n",
            "[LightGBM] [Warning] No further splits with positive gain, best gain: -inf\n",
            "[LightGBM] [Warning] No further splits with positive gain, best gain: -inf\n",
            "[LightGBM] [Warning] No further splits with positive gain, best gain: -inf\n",
            "[LightGBM] [Warning] No further splits with positive gain, best gain: -inf\n",
            "[LightGBM] [Warning] No further splits with positive gain, best gain: -inf\n",
            "[LightGBM] [Warning] No further splits with positive gain, best gain: -inf\n",
            "[LightGBM] [Warning] No further splits with positive gain, best gain: -inf\n",
            "[LightGBM] [Warning] No further splits with positive gain, best gain: -inf\n",
            "[LightGBM] [Warning] No further splits with positive gain, best gain: -inf\n",
            "[LightGBM] [Warning] No further splits with positive gain, best gain: -inf\n",
            "[LightGBM] [Warning] No further splits with positive gain, best gain: -inf\n",
            "[LightGBM] [Warning] No further splits with positive gain, best gain: -inf\n",
            "[LightGBM] [Warning] No further splits with positive gain, best gain: -inf\n",
            "[LightGBM] [Warning] No further splits with positive gain, best gain: -inf\n",
            "[LightGBM] [Warning] No further splits with positive gain, best gain: -inf\n",
            "[LightGBM] [Warning] No further splits with positive gain, best gain: -inf\n",
            "[LightGBM] [Warning] No further splits with positive gain, best gain: -inf\n",
            "[LightGBM] [Warning] No further splits with positive gain, best gain: -inf\n",
            "[LightGBM] [Warning] No further splits with positive gain, best gain: -inf\n",
            "[LightGBM] [Warning] No further splits with positive gain, best gain: -inf\n",
            "Stacking Classifier Accuracy: 0.7108433734939759\n",
            "Classification Report:\n",
            "               precision    recall  f1-score   support\n",
            "\n",
            "           0       0.72      0.68      0.70       208\n",
            "           1       0.70      0.74      0.72       207\n",
            "\n",
            "    accuracy                           0.71       415\n",
            "   macro avg       0.71      0.71      0.71       415\n",
            "weighted avg       0.71      0.71      0.71       415\n",
            "\n"
          ]
        }
      ]
    }
  ]
}